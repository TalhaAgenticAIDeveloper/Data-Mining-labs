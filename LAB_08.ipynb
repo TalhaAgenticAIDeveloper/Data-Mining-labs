{
  "nbformat": 4,
  "nbformat_minor": 0,
  "metadata": {
    "colab": {
      "provenance": []
    },
    "kernelspec": {
      "name": "python3",
      "display_name": "Python 3"
    },
    "language_info": {
      "name": "python"
    }
  },
  "cells": [
    {
      "cell_type": "markdown",
      "source": [
        "**LAB-09-DWM**\n",
        "\n",
        "**Submitted To:**Ma'am Shehla Farooq\n",
        "\n",
        "**Sumbitted By:**(PC)-M Humair Razaq\n",
        "\n",
        "**Course:**BESE-28\n",
        "\n",
        "**Section:**Alpha"
      ],
      "metadata": {
        "id": "H-FND0Nqg6Y7"
      }
    },
    {
      "cell_type": "markdown",
      "source": [
        "**TASK-01**"
      ],
      "metadata": {
        "id": "0VjkaDhohaZ8"
      }
    },
    {
      "cell_type": "code",
      "execution_count": null,
      "metadata": {
        "colab": {
          "base_uri": "https://localhost:8080/"
        },
        "id": "r4SlMY6tfuAO",
        "outputId": "97ecb3a5-7671-4f39-ce4a-fe2db9f10e84"
      },
      "outputs": [
        {
          "output_type": "stream",
          "name": "stdout",
          "text": [
            "   Pregnancies  Glucose  BloodPressure  SkinThickness  Insulin   BMI  \\\n",
            "0            6      148             72             35        0  33.6   \n",
            "1            1       85             66             29        0  26.6   \n",
            "2            8      183             64              0        0  23.3   \n",
            "3            1       89             66             23       94  28.1   \n",
            "4            0      137             40             35      168  43.1   \n",
            "\n",
            "   DiabetesPedigreeFunction  Age  Outcome  \n",
            "0                     0.627   50        1  \n",
            "1                     0.351   31        0  \n",
            "2                     0.672   32        1  \n",
            "3                     0.167   21        0  \n",
            "4                     2.288   33        1  \n"
          ]
        }
      ],
      "source": [
        "import pandas as pd\n",
        "\n",
        "# Load the dataset\n",
        "df = pd.read_csv('diabetes.csv')\n",
        "\n",
        "# Display first 5 rows\n",
        "print(df.head())\n"
      ]
    },
    {
      "cell_type": "code",
      "source": [
        "import numpy as np\n",
        "from sklearn.model_selection import train_test_split\n",
        "from sklearn.preprocessing import StandardScaler\n",
        "from sklearn.neighbors import KNeighborsClassifier\n",
        "from sklearn.metrics import confusion_matrix, f1_score, accuracy_score\n"
      ],
      "metadata": {
        "id": "5niQBwohf7MX"
      },
      "execution_count": null,
      "outputs": []
    },
    {
      "cell_type": "code",
      "source": [
        "# Replace 0s with NaN for cleaning\n",
        "cols_with_zero = ['Glucose', 'BloodPressure', 'SkinThickness', 'Insulin', 'BMI']\n",
        "for col in cols_with_zero:\n",
        "    df[col] = df[col].replace(0, np.nan)\n",
        "    df[col] = df[col].fillna(df[col].mean())\n",
        "\n"
      ],
      "metadata": {
        "id": "zpQj2wDIf7lU"
      },
      "execution_count": null,
      "outputs": []
    },
    {
      "cell_type": "code",
      "source": [
        "# Features (X) and Labels (y)\n",
        "X = df.drop('Outcome', axis=1)\n",
        "y = df['Outcome']\n"
      ],
      "metadata": {
        "id": "Hw0nlUeGf8TG"
      },
      "execution_count": null,
      "outputs": []
    },
    {
      "cell_type": "code",
      "source": [
        "# 80% training, 20% testing\n",
        "X_train, X_test, y_train, y_test = train_test_split(X, y, test_size=0.2, random_state=42)\n"
      ],
      "metadata": {
        "id": "MmqkRohygGhF"
      },
      "execution_count": null,
      "outputs": []
    },
    {
      "cell_type": "code",
      "source": [
        "# Scale features\n",
        "sc = StandardScaler()\n",
        "X_train = sc.fit_transform(X_train)\n",
        "X_test = sc.transform(X_test)\n"
      ],
      "metadata": {
        "id": "Dm-wpbXBgHeQ"
      },
      "execution_count": null,
      "outputs": []
    },
    {
      "cell_type": "code",
      "source": [
        "# Define the model\n",
        "classifier = KNeighborsClassifier(n_neighbors=11, p=2, metric='euclidean')\n"
      ],
      "metadata": {
        "id": "gfFcVjPCgOQe"
      },
      "execution_count": null,
      "outputs": []
    },
    {
      "cell_type": "code",
      "source": [
        "# Fit the model and make predictions\n",
        "classifier.fit(X_train, y_train)\n",
        "y_pred = classifier.predict(X_test)\n"
      ],
      "metadata": {
        "id": "bp6iOSuigOBn"
      },
      "execution_count": null,
      "outputs": []
    },
    {
      "cell_type": "code",
      "source": [
        "# Evaluate with confusion matrix, F1 score, and accuracy\n",
        "cm = confusion_matrix(y_test, y_pred)\n",
        "f1 = f1_score(y_test, y_pred)\n",
        "accuracy = accuracy_score(y_test, y_pred)\n",
        "\n",
        "print(\"Euclidean-Confusion Matrix:\\n\", cm)\n",
        "print(\"F1 Score:\", f1)\n",
        "print(\"Accuracy Score:\", accuracy)\n"
      ],
      "metadata": {
        "colab": {
          "base_uri": "https://localhost:8080/"
        },
        "id": "vE9fuVt0gNhl",
        "outputId": "9b7ef291-d486-47e7-8200-9aface3517bc"
      },
      "execution_count": null,
      "outputs": [
        {
          "output_type": "stream",
          "name": "stdout",
          "text": [
            "Euclidean-Confusion Matrix:\n",
            " [[81 18]\n",
            " [19 36]]\n",
            "F1 Score: 0.6605504587155964\n",
            "Accuracy Score: 0.7597402597402597\n"
          ]
        }
      ]
    },
    {
      "cell_type": "markdown",
      "source": [
        "**TASK-09**"
      ],
      "metadata": {
        "id": "hvfg5WwSiZCW"
      }
    },
    {
      "cell_type": "markdown",
      "source": [
        "**Using Cosine Similarity**"
      ],
      "metadata": {
        "id": "PdCtXrg2ik7a"
      }
    },
    {
      "cell_type": "code",
      "source": [
        "# Cosine similarity model\n",
        "classifier_cosine = KNeighborsClassifier(n_neighbors=11, metric='cosine')\n",
        "classifier_cosine.fit(X_train, y_train)\n",
        "y_pred_cosine = classifier_cosine.predict(X_test)\n",
        "\n",
        "# Evaluation\n",
        "cm_cosine = confusion_matrix(y_test, y_pred_cosine)\n",
        "f1_cosine = f1_score(y_test, y_pred_cosine)\n",
        "accuracy_cosine = accuracy_score(y_test, y_pred_cosine)\n",
        "\n",
        "print(\"Cosine Similarity - Confusion Matrix:\\n\", cm_cosine)\n",
        "print(\"F1 Score:\", f1_cosine)\n",
        "print(\"Accuracy Score:\", accuracy_cosine)\n"
      ],
      "metadata": {
        "colab": {
          "base_uri": "https://localhost:8080/"
        },
        "id": "NKW_loxqjEXI",
        "outputId": "5a57442c-48bb-4f06-ab47-1e52d1038f6c"
      },
      "execution_count": null,
      "outputs": [
        {
          "output_type": "stream",
          "name": "stdout",
          "text": [
            "Cosine Similarity - Confusion Matrix:\n",
            " [[75 24]\n",
            " [13 42]]\n",
            "F1 Score: 0.6942148760330579\n",
            "Accuracy Score: 0.7597402597402597\n"
          ]
        }
      ]
    },
    {
      "cell_type": "markdown",
      "source": [],
      "metadata": {
        "id": "wua6R0HljKp9"
      }
    },
    {
      "cell_type": "code",
      "source": [
        "import matplotlib.pyplot as plt\n",
        "import numpy as np\n",
        "\n",
        "# Metrics and values\n",
        "metrics = ['Accuracy', 'F1 Score']\n",
        "euclidean_scores = [0.7597, 0.6606]\n",
        "cosine_scores = [0.7597, 0.6942]\n",
        "\n",
        "x = np.arange(len(metrics))\n",
        "width = 0.35\n",
        "\n",
        "fig, ax = plt.subplots()\n",
        "bars1 = ax.bar(x - width/2, euclidean_scores, width, label='Euclidean')\n",
        "bars2 = ax.bar(x + width/2, cosine_scores, width, label='Cosine')\n",
        "\n",
        "# Labels and formatting\n",
        "ax.set_ylabel('Scores')\n",
        "ax.set_title('KNN: Euclidean vs Cosine Similarity')\n",
        "ax.set_xticks(x)\n",
        "ax.set_xticklabels(metrics)\n",
        "ax.set_ylim(0, 1)\n",
        "ax.legend()\n",
        "\n",
        "# Add score labels on bars\n",
        "for bar in bars1 + bars2:\n",
        "    height = bar.get_height()\n",
        "    ax.annotate(f'{height:.2f}',\n",
        "                xy=(bar.get_x() + bar.get_width() / 2, height),\n",
        "                xytext=(0, 3),\n",
        "                textcoords=\"offset points\",\n",
        "                ha='center', va='bottom')\n",
        "\n",
        "plt.tight_layout()\n",
        "plt.show()\n"
      ],
      "metadata": {
        "colab": {
          "base_uri": "https://localhost:8080/",
          "height": 487
        },
        "id": "2U3ZrVuPj9KN",
        "outputId": "cc2271d4-3ece-48d5-98ee-cce6bf352f66"
      },
      "execution_count": null,
      "outputs": [
        {
          "output_type": "display_data",
          "data": {
            "text/plain": [
              "<Figure size 640x480 with 1 Axes>"
            ],
            "image/png": "[encoded data removed]"
          },
          "metadata": {}
        }
      ]
    },
    {
      "cell_type": "markdown",
      "source": [
        "So as shown above **cosine similarity ** one is producing better values in terms of f1_score."
      ],
      "metadata": {
        "id": "NMow4k1VkIL3"
      }
    }
  ]
}