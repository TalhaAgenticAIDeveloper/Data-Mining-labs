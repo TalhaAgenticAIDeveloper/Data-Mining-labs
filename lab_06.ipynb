{
 "cells": [
  {
   "cell_type": "markdown",
   "metadata": {},
   "source": [
    "# Lab 06"
   ]
  },
  {
   "cell_type": "markdown",
   "metadata": {},
   "source": [
    "Task B"
   ]
  },
  {
   "cell_type": "code",
   "execution_count": 1,
   "metadata": {},
   "outputs": [],
   "source": [
    "import pandas as pd\n",
    "import numpy as np\n",
    "import matplotlib.pyplot as plt\n",
    "from sklearn.model_selection import train_test_split"
   ]
  },
  {
   "cell_type": "markdown",
   "metadata": {},
   "source": [
    "Task A"
   ]
  },
  {
   "cell_type": "code",
   "execution_count": 2,
   "metadata": {},
   "outputs": [
    {
     "data": {
      "text/html": [
       "<div>\n",
       "<style scoped>\n",
       "    .dataframe tbody tr th:only-of-type {\n",
       "        vertical-align: middle;\n",
       "    }\n",
       "\n",
       "    .dataframe tbody tr th {\n",
       "        vertical-align: top;\n",
       "    }\n",
       "\n",
       "    .dataframe thead th {\n",
       "        text-align: right;\n",
       "    }\n",
       "</style>\n",
       "<table border=\"1\" class=\"dataframe\">\n",
       "  <thead>\n",
       "    <tr style=\"text-align: right;\">\n",
       "      <th></th>\n",
       "      <th>Id</th>\n",
       "      <th>SepalLengthCm</th>\n",
       "      <th>SepalWidthCm</th>\n",
       "      <th>PetalLengthCm</th>\n",
       "      <th>PetalWidthCm</th>\n",
       "      <th>Species</th>\n",
       "    </tr>\n",
       "  </thead>\n",
       "  <tbody>\n",
       "    <tr>\n",
       "      <th>0</th>\n",
       "      <td>1</td>\n",
       "      <td>5.1</td>\n",
       "      <td>3.5</td>\n",
       "      <td>1.4</td>\n",
       "      <td>0.2</td>\n",
       "      <td>Iris-setosa</td>\n",
       "    </tr>\n",
       "    <tr>\n",
       "      <th>1</th>\n",
       "      <td>2</td>\n",
       "      <td>4.9</td>\n",
       "      <td>3.0</td>\n",
       "      <td>1.4</td>\n",
       "      <td>0.2</td>\n",
       "      <td>Iris-setosa</td>\n",
       "    </tr>\n",
       "    <tr>\n",
       "      <th>2</th>\n",
       "      <td>3</td>\n",
       "      <td>4.7</td>\n",
       "      <td>3.2</td>\n",
       "      <td>1.3</td>\n",
       "      <td>0.2</td>\n",
       "      <td>Iris-setosa</td>\n",
       "    </tr>\n",
       "    <tr>\n",
       "      <th>3</th>\n",
       "      <td>4</td>\n",
       "      <td>4.6</td>\n",
       "      <td>3.1</td>\n",
       "      <td>1.5</td>\n",
       "      <td>0.2</td>\n",
       "      <td>Iris-setosa</td>\n",
       "    </tr>\n",
       "    <tr>\n",
       "      <th>4</th>\n",
       "      <td>5</td>\n",
       "      <td>5.0</td>\n",
       "      <td>3.6</td>\n",
       "      <td>1.4</td>\n",
       "      <td>0.2</td>\n",
       "      <td>Iris-setosa</td>\n",
       "    </tr>\n",
       "  </tbody>\n",
       "</table>\n",
       "</div>"
      ],
      "text/plain": [
       "   Id  SepalLengthCm  SepalWidthCm  PetalLengthCm  PetalWidthCm      Species\n",
       "0   1            5.1           3.5            1.4           0.2  Iris-setosa\n",
       "1   2            4.9           3.0            1.4           0.2  Iris-setosa\n",
       "2   3            4.7           3.2            1.3           0.2  Iris-setosa\n",
       "3   4            4.6           3.1            1.5           0.2  Iris-setosa\n",
       "4   5            5.0           3.6            1.4           0.2  Iris-setosa"
      ]
     },
     "execution_count": 2,
     "metadata": {},
     "output_type": "execute_result"
    }
   ],
   "source": [
    "df = pd.read_csv('Iris.csv')\n",
    "df.head()"
   ]
  },
  {
   "cell_type": "markdown",
   "metadata": {},
   "source": [
    "Task C"
   ]
  },
  {
   "cell_type": "code",
   "execution_count": 3,
   "metadata": {},
   "outputs": [
    {
     "name": "stdout",
     "output_type": "stream",
     "text": [
      "(150, 4)\n",
      "(150,)\n"
     ]
    }
   ],
   "source": [
    "X = df.drop([\"Species\",\"Id\"], axis=1)\n",
    "y = df[\"Species\"]\n",
    "print(X.shape)\n",
    "print(y.shape)"
   ]
  },
  {
   "cell_type": "code",
   "execution_count": 4,
   "metadata": {},
   "outputs": [
    {
     "data": {
      "image/png": "[encoded data removed]",
      "text/plain": [
       "<Figure size 640x480 with 1 Axes>"
      ]
     },
     "metadata": {},
     "output_type": "display_data"
    }
   ],
   "source": [
    "plt.boxplot(X[\"PetalWidthCm\"])\n",
    "plt.show()"
   ]
  },
  {
   "cell_type": "code",
   "execution_count": 5,
   "metadata": {},
   "outputs": [
    {
     "data": {
      "text/html": [
       "<div>\n",
       "<style scoped>\n",
       "    .dataframe tbody tr th:only-of-type {\n",
       "        vertical-align: middle;\n",
       "    }\n",
       "\n",
       "    .dataframe tbody tr th {\n",
       "        vertical-align: top;\n",
       "    }\n",
       "\n",
       "    .dataframe thead th {\n",
       "        text-align: right;\n",
       "    }\n",
       "</style>\n",
       "<table border=\"1\" class=\"dataframe\">\n",
       "  <thead>\n",
       "    <tr style=\"text-align: right;\">\n",
       "      <th></th>\n",
       "      <th>SepalLengthCm</th>\n",
       "      <th>SepalWidthCm</th>\n",
       "      <th>PetalLengthCm</th>\n",
       "      <th>PetalWidthCm</th>\n",
       "    </tr>\n",
       "  </thead>\n",
       "  <tbody>\n",
       "    <tr>\n",
       "      <th>0</th>\n",
       "      <td>5.1</td>\n",
       "      <td>3.5</td>\n",
       "      <td>1.4</td>\n",
       "      <td>0.2</td>\n",
       "    </tr>\n",
       "    <tr>\n",
       "      <th>1</th>\n",
       "      <td>4.9</td>\n",
       "      <td>3.0</td>\n",
       "      <td>1.4</td>\n",
       "      <td>0.2</td>\n",
       "    </tr>\n",
       "    <tr>\n",
       "      <th>2</th>\n",
       "      <td>4.7</td>\n",
       "      <td>3.2</td>\n",
       "      <td>1.3</td>\n",
       "      <td>0.2</td>\n",
       "    </tr>\n",
       "    <tr>\n",
       "      <th>3</th>\n",
       "      <td>4.6</td>\n",
       "      <td>3.1</td>\n",
       "      <td>1.5</td>\n",
       "      <td>0.2</td>\n",
       "    </tr>\n",
       "    <tr>\n",
       "      <th>4</th>\n",
       "      <td>5.0</td>\n",
       "      <td>3.6</td>\n",
       "      <td>1.4</td>\n",
       "      <td>0.2</td>\n",
       "    </tr>\n",
       "  </tbody>\n",
       "</table>\n",
       "</div>"
      ],
      "text/plain": [
       "   SepalLengthCm  SepalWidthCm  PetalLengthCm  PetalWidthCm\n",
       "0            5.1           3.5            1.4           0.2\n",
       "1            4.9           3.0            1.4           0.2\n",
       "2            4.7           3.2            1.3           0.2\n",
       "3            4.6           3.1            1.5           0.2\n",
       "4            5.0           3.6            1.4           0.2"
      ]
     },
     "execution_count": 5,
     "metadata": {},
     "output_type": "execute_result"
    }
   ],
   "source": [
    "X.head()"
   ]
  },
  {
   "cell_type": "markdown",
   "metadata": {},
   "source": [
    "Task D"
   ]
  },
  {
   "cell_type": "code",
   "execution_count": 6,
   "metadata": {},
   "outputs": [
    {
     "data": {
      "text/html": [
       "<div>\n",
       "<style scoped>\n",
       "    .dataframe tbody tr th:only-of-type {\n",
       "        vertical-align: middle;\n",
       "    }\n",
       "\n",
       "    .dataframe tbody tr th {\n",
       "        vertical-align: top;\n",
       "    }\n",
       "\n",
       "    .dataframe thead th {\n",
       "        text-align: right;\n",
       "    }\n",
       "</style>\n",
       "<table border=\"1\" class=\"dataframe\">\n",
       "  <thead>\n",
       "    <tr style=\"text-align: right;\">\n",
       "      <th></th>\n",
       "      <th>SepalLengthCm</th>\n",
       "      <th>SepalWidthCm</th>\n",
       "      <th>PetalLengthCm</th>\n",
       "      <th>PetalWidthCm</th>\n",
       "    </tr>\n",
       "  </thead>\n",
       "  <tbody>\n",
       "    <tr>\n",
       "      <th>0</th>\n",
       "      <td>-0.743333</td>\n",
       "      <td>0.446</td>\n",
       "      <td>-2.358667</td>\n",
       "      <td>-0.998667</td>\n",
       "    </tr>\n",
       "    <tr>\n",
       "      <th>1</th>\n",
       "      <td>-0.943333</td>\n",
       "      <td>-0.054</td>\n",
       "      <td>-2.358667</td>\n",
       "      <td>-0.998667</td>\n",
       "    </tr>\n",
       "    <tr>\n",
       "      <th>2</th>\n",
       "      <td>-1.143333</td>\n",
       "      <td>0.146</td>\n",
       "      <td>-2.458667</td>\n",
       "      <td>-0.998667</td>\n",
       "    </tr>\n",
       "    <tr>\n",
       "      <th>3</th>\n",
       "      <td>-1.243333</td>\n",
       "      <td>0.046</td>\n",
       "      <td>-2.258667</td>\n",
       "      <td>-0.998667</td>\n",
       "    </tr>\n",
       "    <tr>\n",
       "      <th>4</th>\n",
       "      <td>-0.843333</td>\n",
       "      <td>0.546</td>\n",
       "      <td>-2.358667</td>\n",
       "      <td>-0.998667</td>\n",
       "    </tr>\n",
       "  </tbody>\n",
       "</table>\n",
       "</div>"
      ],
      "text/plain": [
       "   SepalLengthCm  SepalWidthCm  PetalLengthCm  PetalWidthCm\n",
       "0      -0.743333         0.446      -2.358667     -0.998667\n",
       "1      -0.943333        -0.054      -2.358667     -0.998667\n",
       "2      -1.143333         0.146      -2.458667     -0.998667\n",
       "3      -1.243333         0.046      -2.258667     -0.998667\n",
       "4      -0.843333         0.546      -2.358667     -0.998667"
      ]
     },
     "execution_count": 6,
     "metadata": {},
     "output_type": "execute_result"
    }
   ],
   "source": [
    "X = X - X.mean()\n",
    "X.head()"
   ]
  },
  {
   "cell_type": "markdown",
   "metadata": {},
   "source": [
    "Task E"
   ]
  },
  {
   "cell_type": "code",
   "execution_count": 7,
   "metadata": {},
   "outputs": [
    {
     "data": {
      "text/plain": [
       "array([[ 0.68569351, -0.03926846,  1.27368233,  0.5169038 ],\n",
       "       [-0.03926846,  0.18800403, -0.32171275, -0.11798121],\n",
       "       [ 1.27368233, -0.32171275,  3.11317942,  1.29638747],\n",
       "       [ 0.5169038 , -0.11798121,  1.29638747,  0.58241432]])"
      ]
     },
     "execution_count": 7,
     "metadata": {},
     "output_type": "execute_result"
    }
   ],
   "source": [
    "covar = np.cov(X.transpose())\n",
    "covar"
   ]
  },
  {
   "cell_type": "code",
   "execution_count": 8,
   "metadata": {},
   "outputs": [
    {
     "data": {
      "text/plain": [
       "(4, 4)"
      ]
     },
     "execution_count": 8,
     "metadata": {},
     "output_type": "execute_result"
    }
   ],
   "source": [
    "covar.shape"
   ]
  },
  {
   "cell_type": "markdown",
   "metadata": {},
   "source": [
    "Task F"
   ]
  },
  {
   "cell_type": "code",
   "execution_count": 9,
   "metadata": {},
   "outputs": [
    {
     "data": {
      "text/plain": [
       "EighResult(eigenvalues=array([0.02368303, 0.07852391, 0.24224357, 4.22484077]), eigenvectors=array([[ 0.31725455,  0.58099728,  0.65653988, -0.36158968],\n",
       "       [-0.32409435, -0.59641809,  0.72971237,  0.08226889],\n",
       "       [-0.47971899, -0.07252408, -0.1757674 , -0.85657211],\n",
       "       [ 0.75112056, -0.54906091, -0.07470647, -0.35884393]]))"
      ]
     },
     "execution_count": 9,
     "metadata": {},
     "output_type": "execute_result"
    }
   ],
   "source": [
    "eigenVectors = np.linalg.eigh(covar)\n",
    "eigenVectors"
   ]
  },
  {
   "cell_type": "markdown",
   "metadata": {},
   "source": [
    "Task G"
   ]
  },
  {
   "cell_type": "code",
   "execution_count": 10,
   "metadata": {},
   "outputs": [
    {
     "data": {
      "text/plain": [
       "array([[ 0.65653988, -0.36158968],\n",
       "       [ 0.72971237,  0.08226889],\n",
       "       [-0.1757674 , -0.85657211],\n",
       "       [-0.07470647, -0.35884393]])"
      ]
     },
     "execution_count": 10,
     "metadata": {},
     "output_type": "execute_result"
    }
   ],
   "source": [
    "# sorted_eigen = np.argsort(eigenVectors.eigenvalues)\n",
    "# sorted_eigen\n",
    "\n",
    "choosen_eigen = eigenVectors.eigenvectors[:,[2,3]]\n",
    "choosen_eigen\n",
    "\n"
   ]
  },
  {
   "cell_type": "code",
   "execution_count": 11,
   "metadata": {},
   "outputs": [
    {
     "name": "stdout",
     "output_type": "stream",
     "text": [
      "(150, 4)\n"
     ]
    },
    {
     "data": {
      "text/plain": [
       "array([[-7.43333333e-01,  4.46000000e-01, -2.35866667e+00,\n",
       "        -9.98666667e-01],\n",
       "       [-9.43333333e-01, -5.40000000e-02, -2.35866667e+00,\n",
       "        -9.98666667e-01],\n",
       "       [-1.14333333e+00,  1.46000000e-01, -2.45866667e+00,\n",
       "        -9.98666667e-01],\n",
       "       [-1.24333333e+00,  4.60000000e-02, -2.25866667e+00,\n",
       "        -9.98666667e-01],\n",
       "       [-8.43333333e-01,  5.46000000e-01, -2.35866667e+00,\n",
       "        -9.98666667e-01],\n",
       "       [-4.43333333e-01,  8.46000000e-01, -2.05866667e+00,\n",
       "        -7.98666667e-01],\n",
       "       [-1.24333333e+00,  3.46000000e-01, -2.35866667e+00,\n",
       "        -8.98666667e-01],\n",
       "       [-8.43333333e-01,  3.46000000e-01, -2.25866667e+00,\n",
       "        -9.98666667e-01],\n",
       "       [-1.44333333e+00, -1.54000000e-01, -2.35866667e+00,\n",
       "        -9.98666667e-01],\n",
       "       [-9.43333333e-01,  4.60000000e-02, -2.25866667e+00,\n",
       "        -1.09866667e+00],\n",
       "       [-4.43333333e-01,  6.46000000e-01, -2.25866667e+00,\n",
       "        -9.98666667e-01],\n",
       "       [-1.04333333e+00,  3.46000000e-01, -2.15866667e+00,\n",
       "        -9.98666667e-01],\n",
       "       [-1.04333333e+00, -5.40000000e-02, -2.35866667e+00,\n",
       "        -1.09866667e+00],\n",
       "       [-1.54333333e+00, -5.40000000e-02, -2.65866667e+00,\n",
       "        -1.09866667e+00],\n",
       "       [-4.33333333e-02,  9.46000000e-01, -2.55866667e+00,\n",
       "        -9.98666667e-01],\n",
       "       [-1.43333333e-01,  1.34600000e+00, -2.25866667e+00,\n",
       "        -7.98666667e-01],\n",
       "       [-4.43333333e-01,  8.46000000e-01, -2.45866667e+00,\n",
       "        -7.98666667e-01],\n",
       "       [-7.43333333e-01,  4.46000000e-01, -2.35866667e+00,\n",
       "        -8.98666667e-01],\n",
       "       [-1.43333333e-01,  7.46000000e-01, -2.05866667e+00,\n",
       "        -8.98666667e-01],\n",
       "       [-7.43333333e-01,  7.46000000e-01, -2.25866667e+00,\n",
       "        -8.98666667e-01],\n",
       "       [-4.43333333e-01,  3.46000000e-01, -2.05866667e+00,\n",
       "        -9.98666667e-01],\n",
       "       [-7.43333333e-01,  6.46000000e-01, -2.25866667e+00,\n",
       "        -7.98666667e-01],\n",
       "       [-1.24333333e+00,  5.46000000e-01, -2.75866667e+00,\n",
       "        -9.98666667e-01],\n",
       "       [-7.43333333e-01,  2.46000000e-01, -2.05866667e+00,\n",
       "        -6.98666667e-01],\n",
       "       [-1.04333333e+00,  3.46000000e-01, -1.85866667e+00,\n",
       "        -9.98666667e-01],\n",
       "       [-8.43333333e-01, -5.40000000e-02, -2.15866667e+00,\n",
       "        -9.98666667e-01],\n",
       "       [-8.43333333e-01,  3.46000000e-01, -2.15866667e+00,\n",
       "        -7.98666667e-01],\n",
       "       [-6.43333333e-01,  4.46000000e-01, -2.25866667e+00,\n",
       "        -9.98666667e-01],\n",
       "       [-6.43333333e-01,  3.46000000e-01, -2.35866667e+00,\n",
       "        -9.98666667e-01],\n",
       "       [-1.14333333e+00,  1.46000000e-01, -2.15866667e+00,\n",
       "        -9.98666667e-01],\n",
       "       [-1.04333333e+00,  4.60000000e-02, -2.15866667e+00,\n",
       "        -9.98666667e-01],\n",
       "       [-4.43333333e-01,  3.46000000e-01, -2.25866667e+00,\n",
       "        -7.98666667e-01],\n",
       "       [-6.43333333e-01,  1.04600000e+00, -2.25866667e+00,\n",
       "        -1.09866667e+00],\n",
       "       [-3.43333333e-01,  1.14600000e+00, -2.35866667e+00,\n",
       "        -9.98666667e-01],\n",
       "       [-9.43333333e-01,  4.60000000e-02, -2.25866667e+00,\n",
       "        -1.09866667e+00],\n",
       "       [-8.43333333e-01,  1.46000000e-01, -2.55866667e+00,\n",
       "        -9.98666667e-01],\n",
       "       [-3.43333333e-01,  4.46000000e-01, -2.45866667e+00,\n",
       "        -9.98666667e-01],\n",
       "       [-9.43333333e-01,  4.60000000e-02, -2.25866667e+00,\n",
       "        -1.09866667e+00],\n",
       "       [-1.44333333e+00, -5.40000000e-02, -2.45866667e+00,\n",
       "        -9.98666667e-01],\n",
       "       [-7.43333333e-01,  3.46000000e-01, -2.25866667e+00,\n",
       "        -9.98666667e-01],\n",
       "       [-8.43333333e-01,  4.46000000e-01, -2.45866667e+00,\n",
       "        -8.98666667e-01],\n",
       "       [-1.34333333e+00, -7.54000000e-01, -2.45866667e+00,\n",
       "        -8.98666667e-01],\n",
       "       [-1.44333333e+00,  1.46000000e-01, -2.45866667e+00,\n",
       "        -9.98666667e-01],\n",
       "       [-8.43333333e-01,  4.46000000e-01, -2.15866667e+00,\n",
       "        -5.98666667e-01],\n",
       "       [-7.43333333e-01,  7.46000000e-01, -1.85866667e+00,\n",
       "        -7.98666667e-01],\n",
       "       [-1.04333333e+00, -5.40000000e-02, -2.35866667e+00,\n",
       "        -8.98666667e-01],\n",
       "       [-7.43333333e-01,  7.46000000e-01, -2.15866667e+00,\n",
       "        -9.98666667e-01],\n",
       "       [-1.24333333e+00,  1.46000000e-01, -2.35866667e+00,\n",
       "        -9.98666667e-01],\n",
       "       [-5.43333333e-01,  6.46000000e-01, -2.25866667e+00,\n",
       "        -9.98666667e-01],\n",
       "       [-8.43333333e-01,  2.46000000e-01, -2.35866667e+00,\n",
       "        -9.98666667e-01],\n",
       "       [ 1.15666667e+00,  1.46000000e-01,  9.41333333e-01,\n",
       "         2.01333333e-01],\n",
       "       [ 5.56666667e-01,  1.46000000e-01,  7.41333333e-01,\n",
       "         3.01333333e-01],\n",
       "       [ 1.05666667e+00,  4.60000000e-02,  1.14133333e+00,\n",
       "         3.01333333e-01],\n",
       "       [-3.43333333e-01, -7.54000000e-01,  2.41333333e-01,\n",
       "         1.01333333e-01],\n",
       "       [ 6.56666667e-01, -2.54000000e-01,  8.41333333e-01,\n",
       "         3.01333333e-01],\n",
       "       [-1.43333333e-01, -2.54000000e-01,  7.41333333e-01,\n",
       "         1.01333333e-01],\n",
       "       [ 4.56666667e-01,  2.46000000e-01,  9.41333333e-01,\n",
       "         4.01333333e-01],\n",
       "       [-9.43333333e-01, -6.54000000e-01, -4.58666667e-01,\n",
       "        -1.98666667e-01],\n",
       "       [ 7.56666667e-01, -1.54000000e-01,  8.41333333e-01,\n",
       "         1.01333333e-01],\n",
       "       [-6.43333333e-01, -3.54000000e-01,  1.41333333e-01,\n",
       "         2.01333333e-01],\n",
       "       [-8.43333333e-01, -1.05400000e+00, -2.58666667e-01,\n",
       "        -1.98666667e-01],\n",
       "       [ 5.66666667e-02, -5.40000000e-02,  4.41333333e-01,\n",
       "         3.01333333e-01],\n",
       "       [ 1.56666667e-01, -8.54000000e-01,  2.41333333e-01,\n",
       "        -1.98666667e-01],\n",
       "       [ 2.56666667e-01, -1.54000000e-01,  9.41333333e-01,\n",
       "         2.01333333e-01],\n",
       "       [-2.43333333e-01, -1.54000000e-01, -1.58666667e-01,\n",
       "         1.01333333e-01],\n",
       "       [ 8.56666667e-01,  4.60000000e-02,  6.41333333e-01,\n",
       "         2.01333333e-01],\n",
       "       [-2.43333333e-01, -5.40000000e-02,  7.41333333e-01,\n",
       "         3.01333333e-01],\n",
       "       [-4.33333333e-02, -3.54000000e-01,  3.41333333e-01,\n",
       "        -1.98666667e-01],\n",
       "       [ 3.56666667e-01, -8.54000000e-01,  7.41333333e-01,\n",
       "         3.01333333e-01],\n",
       "       [-2.43333333e-01, -5.54000000e-01,  1.41333333e-01,\n",
       "        -9.86666667e-02],\n",
       "       [ 5.66666667e-02,  1.46000000e-01,  1.04133333e+00,\n",
       "         6.01333333e-01],\n",
       "       [ 2.56666667e-01, -2.54000000e-01,  2.41333333e-01,\n",
       "         1.01333333e-01],\n",
       "       [ 4.56666667e-01, -5.54000000e-01,  1.14133333e+00,\n",
       "         3.01333333e-01],\n",
       "       [ 2.56666667e-01, -2.54000000e-01,  9.41333333e-01,\n",
       "         1.33333333e-03],\n",
       "       [ 5.56666667e-01, -1.54000000e-01,  5.41333333e-01,\n",
       "         1.01333333e-01],\n",
       "       [ 7.56666667e-01, -5.40000000e-02,  6.41333333e-01,\n",
       "         2.01333333e-01],\n",
       "       [ 9.56666667e-01, -2.54000000e-01,  1.04133333e+00,\n",
       "         2.01333333e-01],\n",
       "       [ 8.56666667e-01, -5.40000000e-02,  1.24133333e+00,\n",
       "         5.01333333e-01],\n",
       "       [ 1.56666667e-01, -1.54000000e-01,  7.41333333e-01,\n",
       "         3.01333333e-01],\n",
       "       [-1.43333333e-01, -4.54000000e-01, -2.58666667e-01,\n",
       "        -1.98666667e-01],\n",
       "       [-3.43333333e-01, -6.54000000e-01,  4.13333333e-02,\n",
       "        -9.86666667e-02],\n",
       "       [-3.43333333e-01, -6.54000000e-01, -5.86666667e-02,\n",
       "        -1.98666667e-01],\n",
       "       [-4.33333333e-02, -3.54000000e-01,  1.41333333e-01,\n",
       "         1.33333333e-03],\n",
       "       [ 1.56666667e-01, -3.54000000e-01,  1.34133333e+00,\n",
       "         4.01333333e-01],\n",
       "       [-4.43333333e-01, -5.40000000e-02,  7.41333333e-01,\n",
       "         3.01333333e-01],\n",
       "       [ 1.56666667e-01,  3.46000000e-01,  7.41333333e-01,\n",
       "         4.01333333e-01],\n",
       "       [ 8.56666667e-01,  4.60000000e-02,  9.41333333e-01,\n",
       "         3.01333333e-01],\n",
       "       [ 4.56666667e-01, -7.54000000e-01,  6.41333333e-01,\n",
       "         1.01333333e-01],\n",
       "       [-2.43333333e-01, -5.40000000e-02,  3.41333333e-01,\n",
       "         1.01333333e-01],\n",
       "       [-3.43333333e-01, -5.54000000e-01,  2.41333333e-01,\n",
       "         1.01333333e-01],\n",
       "       [-3.43333333e-01, -4.54000000e-01,  6.41333333e-01,\n",
       "         1.33333333e-03],\n",
       "       [ 2.56666667e-01, -5.40000000e-02,  8.41333333e-01,\n",
       "         2.01333333e-01],\n",
       "       [-4.33333333e-02, -4.54000000e-01,  2.41333333e-01,\n",
       "         1.33333333e-03],\n",
       "       [-8.43333333e-01, -7.54000000e-01, -4.58666667e-01,\n",
       "        -1.98666667e-01],\n",
       "       [-2.43333333e-01, -3.54000000e-01,  4.41333333e-01,\n",
       "         1.01333333e-01],\n",
       "       [-1.43333333e-01, -5.40000000e-02,  4.41333333e-01,\n",
       "         1.33333333e-03],\n",
       "       [-1.43333333e-01, -1.54000000e-01,  4.41333333e-01,\n",
       "         1.01333333e-01],\n",
       "       [ 3.56666667e-01, -1.54000000e-01,  5.41333333e-01,\n",
       "         1.01333333e-01],\n",
       "       [-7.43333333e-01, -5.54000000e-01, -7.58666667e-01,\n",
       "        -9.86666667e-02],\n",
       "       [-1.43333333e-01, -2.54000000e-01,  3.41333333e-01,\n",
       "         1.01333333e-01],\n",
       "       [ 4.56666667e-01,  2.46000000e-01,  2.24133333e+00,\n",
       "         1.30133333e+00],\n",
       "       [-4.33333333e-02, -3.54000000e-01,  1.34133333e+00,\n",
       "         7.01333333e-01],\n",
       "       [ 1.25666667e+00, -5.40000000e-02,  2.14133333e+00,\n",
       "         9.01333333e-01],\n",
       "       [ 4.56666667e-01, -1.54000000e-01,  1.84133333e+00,\n",
       "         6.01333333e-01],\n",
       "       [ 6.56666667e-01, -5.40000000e-02,  2.04133333e+00,\n",
       "         1.00133333e+00],\n",
       "       [ 1.75666667e+00, -5.40000000e-02,  2.84133333e+00,\n",
       "         9.01333333e-01],\n",
       "       [-9.43333333e-01, -5.54000000e-01,  7.41333333e-01,\n",
       "         5.01333333e-01],\n",
       "       [ 1.45666667e+00, -1.54000000e-01,  2.54133333e+00,\n",
       "         6.01333333e-01],\n",
       "       [ 8.56666667e-01, -5.54000000e-01,  2.04133333e+00,\n",
       "         6.01333333e-01],\n",
       "       [ 1.35666667e+00,  5.46000000e-01,  2.34133333e+00,\n",
       "         1.30133333e+00],\n",
       "       [ 6.56666667e-01,  1.46000000e-01,  1.34133333e+00,\n",
       "         8.01333333e-01],\n",
       "       [ 5.56666667e-01, -3.54000000e-01,  1.54133333e+00,\n",
       "         7.01333333e-01],\n",
       "       [ 9.56666667e-01, -5.40000000e-02,  1.74133333e+00,\n",
       "         9.01333333e-01],\n",
       "       [-1.43333333e-01, -5.54000000e-01,  1.24133333e+00,\n",
       "         8.01333333e-01],\n",
       "       [-4.33333333e-02, -2.54000000e-01,  1.34133333e+00,\n",
       "         1.20133333e+00],\n",
       "       [ 5.56666667e-01,  1.46000000e-01,  1.54133333e+00,\n",
       "         1.10133333e+00],\n",
       "       [ 6.56666667e-01, -5.40000000e-02,  1.74133333e+00,\n",
       "         6.01333333e-01],\n",
       "       [ 1.85666667e+00,  7.46000000e-01,  2.94133333e+00,\n",
       "         1.00133333e+00],\n",
       "       [ 1.85666667e+00, -4.54000000e-01,  3.14133333e+00,\n",
       "         1.10133333e+00],\n",
       "       [ 1.56666667e-01, -8.54000000e-01,  1.24133333e+00,\n",
       "         3.01333333e-01],\n",
       "       [ 1.05666667e+00,  1.46000000e-01,  1.94133333e+00,\n",
       "         1.10133333e+00],\n",
       "       [-2.43333333e-01, -2.54000000e-01,  1.14133333e+00,\n",
       "         8.01333333e-01],\n",
       "       [ 1.85666667e+00, -2.54000000e-01,  2.94133333e+00,\n",
       "         8.01333333e-01],\n",
       "       [ 4.56666667e-01, -3.54000000e-01,  1.14133333e+00,\n",
       "         6.01333333e-01],\n",
       "       [ 8.56666667e-01,  2.46000000e-01,  1.94133333e+00,\n",
       "         9.01333333e-01],\n",
       "       [ 1.35666667e+00,  1.46000000e-01,  2.24133333e+00,\n",
       "         6.01333333e-01],\n",
       "       [ 3.56666667e-01, -2.54000000e-01,  1.04133333e+00,\n",
       "         6.01333333e-01],\n",
       "       [ 2.56666667e-01, -5.40000000e-02,  1.14133333e+00,\n",
       "         6.01333333e-01],\n",
       "       [ 5.56666667e-01, -2.54000000e-01,  1.84133333e+00,\n",
       "         9.01333333e-01],\n",
       "       [ 1.35666667e+00, -5.40000000e-02,  2.04133333e+00,\n",
       "         4.01333333e-01],\n",
       "       [ 1.55666667e+00, -2.54000000e-01,  2.34133333e+00,\n",
       "         7.01333333e-01],\n",
       "       [ 2.05666667e+00,  7.46000000e-01,  2.64133333e+00,\n",
       "         8.01333333e-01],\n",
       "       [ 5.56666667e-01, -2.54000000e-01,  1.84133333e+00,\n",
       "         1.00133333e+00],\n",
       "       [ 4.56666667e-01, -2.54000000e-01,  1.34133333e+00,\n",
       "         3.01333333e-01],\n",
       "       [ 2.56666667e-01, -4.54000000e-01,  1.84133333e+00,\n",
       "         2.01333333e-01],\n",
       "       [ 1.85666667e+00, -5.40000000e-02,  2.34133333e+00,\n",
       "         1.10133333e+00],\n",
       "       [ 4.56666667e-01,  3.46000000e-01,  1.84133333e+00,\n",
       "         1.20133333e+00],\n",
       "       [ 5.56666667e-01,  4.60000000e-02,  1.74133333e+00,\n",
       "         6.01333333e-01],\n",
       "       [ 1.56666667e-01, -5.40000000e-02,  1.04133333e+00,\n",
       "         6.01333333e-01],\n",
       "       [ 1.05666667e+00,  4.60000000e-02,  1.64133333e+00,\n",
       "         9.01333333e-01],\n",
       "       [ 8.56666667e-01,  4.60000000e-02,  1.84133333e+00,\n",
       "         1.20133333e+00],\n",
       "       [ 1.05666667e+00,  4.60000000e-02,  1.34133333e+00,\n",
       "         1.10133333e+00],\n",
       "       [-4.33333333e-02, -3.54000000e-01,  1.34133333e+00,\n",
       "         7.01333333e-01],\n",
       "       [ 9.56666667e-01,  1.46000000e-01,  2.14133333e+00,\n",
       "         1.10133333e+00],\n",
       "       [ 8.56666667e-01,  2.46000000e-01,  1.94133333e+00,\n",
       "         1.30133333e+00],\n",
       "       [ 8.56666667e-01, -5.40000000e-02,  1.44133333e+00,\n",
       "         1.10133333e+00],\n",
       "       [ 4.56666667e-01, -5.54000000e-01,  1.24133333e+00,\n",
       "         7.01333333e-01],\n",
       "       [ 6.56666667e-01, -5.40000000e-02,  1.44133333e+00,\n",
       "         8.01333333e-01],\n",
       "       [ 3.56666667e-01,  3.46000000e-01,  1.64133333e+00,\n",
       "         1.10133333e+00],\n",
       "       [ 5.66666667e-02, -5.40000000e-02,  1.34133333e+00,\n",
       "         6.01333333e-01]])"
      ]
     },
     "execution_count": 11,
     "metadata": {},
     "output_type": "execute_result"
    }
   ],
   "source": [
    "x_matrix = X.to_numpy()\n",
    "print(x_matrix.shape)\n",
    "x_matrix"
   ]
  },
  {
   "cell_type": "markdown",
   "metadata": {},
   "source": [
    "Task I"
   ]
  },
  {
   "cell_type": "code",
   "execution_count": 12,
   "metadata": {},
   "outputs": [
    {
     "data": {
      "text/plain": [
       "array([[ 0.32660731,  2.68420713],\n",
       "       [-0.16955685,  2.71539062],\n",
       "       [-0.13734561,  2.88981954],\n",
       "       [-0.31112432,  2.7464372 ],\n",
       "       [ 0.33392456,  2.72859298],\n",
       "       [ 0.74778271,  2.27989736],\n",
       "       [-0.08210451,  2.82089068],\n",
       "       [ 0.17040535,  2.62648199],\n",
       "       [-0.57079803,  2.88795857],\n",
       "       [-0.1066917 ,  2.67384469],\n",
       "       [ 0.65193501,  2.50652679],\n",
       "       [ 0.02152063,  2.61314272],\n",
       "       [-0.22774019,  2.78743398],\n",
       "       [-0.50327991,  3.22520045],\n",
       "       [ 1.1861949 ,  2.64354322],\n",
       "       [ 1.34475434,  2.38386932],\n",
       "       [ 0.81808967,  2.6225262 ],\n",
       "       [ 0.31913667,  2.64832273],\n",
       "       [ 0.87924409,  2.19907796],\n",
       "       [ 0.52047364,  2.58734619],\n",
       "       [ 0.39786782,  2.3105317 ],\n",
       "       [ 0.44003175,  2.54323491],\n",
       "       [ 0.14161557,  3.21585769],\n",
       "       [ 0.10552268,  2.30312854],\n",
       "       [-0.03120959,  2.35617109],\n",
       "       [-0.13905634,  2.50791723],\n",
       "       [ 0.13788731,  2.469056  ],\n",
       "       [ 0.37468456,  2.56239095],\n",
       "       [ 0.31929007,  2.63982127],\n",
       "       [-0.19007583,  2.63284791],\n",
       "       [-0.19739308,  2.58846205],\n",
       "       [ 0.41808001,  2.41007734],\n",
       "       [ 0.81998263,  2.64763667],\n",
       "       [ 1.10002193,  2.59715948],\n",
       "       [-0.1066917 ,  2.67384469],\n",
       "       [ 0.0771931 ,  2.86699985],\n",
       "       [ 0.60680001,  2.62522846],\n",
       "       [-0.1066917 ,  2.67384469],\n",
       "       [-0.48025005,  2.98184266],\n",
       "       [ 0.23605934,  2.59032303],\n",
       "       [ 0.27105942,  2.77013891],\n",
       "       [-0.93286537,  2.85221108],\n",
       "       [-0.33430757,  2.99829644],\n",
       "       [ 0.19591726,  2.4055141 ],\n",
       "       [ 0.44269603,  2.20883295],\n",
       "       [-0.24268148,  2.71566519],\n",
       "       [ 0.51036755,  2.53757337],\n",
       "       [-0.22057634,  2.8403213 ],\n",
       "       [ 0.58628103,  2.54268576],\n",
       "       [ 0.11501085,  2.70391231],\n",
       "       [ 0.68543919, -1.28479459],\n",
       "       [ 0.31919809, -0.93241075],\n",
       "       [ 0.50418983, -1.46406132],\n",
       "       [-0.82560394, -0.18096721],\n",
       "       [ 0.07539039, -1.08713449],\n",
       "       [-0.41732348, -0.64043675],\n",
       "       [ 0.28389121, -1.09522371],\n",
       "       [-1.00110751,  0.75146714],\n",
       "       [ 0.22895691, -1.04329778],\n",
       "       [-0.72057487,  0.01019007],\n",
       "       [-1.26249195,  0.5110862 ],\n",
       "       [-0.10228411, -0.51109806],\n",
       "       [-0.5478933 , -0.26233576],\n",
       "       [-0.12436042, -0.98404455],\n",
       "       [-0.25181557,  0.174864  ],\n",
       "       [ 0.46823621, -0.92757294],\n",
       "       [-0.35197629, -0.65959279],\n",
       "       [-0.33192183, -0.23454059],\n",
       "       [-0.54182226, -0.94236171],\n",
       "       [-0.58148945, -0.0432464 ],\n",
       "       [-0.08421401, -1.11624072],\n",
       "       [-0.06682383, -0.35678657],\n",
       "       [-0.32756152, -1.29646885],\n",
       "       [-0.18239036, -0.92050265],\n",
       "       [ 0.15037915, -0.71400821],\n",
       "       [ 0.32961098, -0.89964086],\n",
       "       [ 0.24466952, -1.33104142],\n",
       "       [ 0.26739258, -1.55739627],\n",
       "       [-0.16233157, -0.81245555],\n",
       "       [-0.36508661,  0.30733476],\n",
       "       [-0.70253793,  0.07034289],\n",
       "       [-0.67749054,  0.19188449],\n",
       "       [-0.31170964, -0.13499495],\n",
       "       [-0.42120514, -1.37873698],\n",
       "       [-0.48328427, -0.58727485],\n",
       "       [ 0.19505396, -0.8072055 ],\n",
       "       [ 0.40803534, -1.22042897],\n",
       "       [-0.370679  , -0.81286779],\n",
       "       [-0.26672804, -0.24519516],\n",
       "       [-0.67966147, -0.16451343],\n",
       "       [-0.66952655, -0.46303099],\n",
       "       [-0.03381244, -0.89016045],\n",
       "       [-0.40225762, -0.22887905],\n",
       "       [-1.00842476,  0.70708128],\n",
       "       [-0.50321849, -0.35553304],\n",
       "       [-0.21118014, -0.33112695],\n",
       "       [-0.29162202, -0.37523823],\n",
       "       [ 0.01907118, -0.64169028],\n",
       "       [-0.75156873,  0.90846333],\n",
       "       [-0.34701652, -0.29780791],\n",
       "       [-0.01184224, -2.53172698],\n",
       "       [-0.57492506, -1.41407223],\n",
       "       [ 0.34193529, -2.61648461],\n",
       "       [-0.18112569, -1.97081495],\n",
       "       [-0.04188255, -2.34975798],\n",
       "       [ 0.54716805, -3.39687992],\n",
       "       [-1.19135169, -0.51938325],\n",
       "       [ 0.35237701, -2.9320051 ],\n",
       "       [-0.24554817, -2.31967279],\n",
       "       [ 0.78038063, -2.91813423],\n",
       "       [ 0.2420384 , -1.66193495],\n",
       "       [-0.21615461, -1.80234045],\n",
       "       [ 0.21528028, -2.16537886],\n",
       "       [-0.77641543, -1.34459422],\n",
       "       [-0.53930705, -1.5852673 ],\n",
       "       [ 0.11881899, -1.90474358],\n",
       "       [ 0.04073026, -1.94924878],\n",
       "       [ 1.17154454, -3.48876538],\n",
       "       [ 0.25326557, -3.79468686],\n",
       "       [-0.76101394, -1.29832982],\n",
       "       [ 0.37678197, -2.42816726],\n",
       "       [-0.60557896, -1.19809737],\n",
       "       [ 0.45677347, -3.49926548],\n",
       "       [-0.20403099, -1.38766825],\n",
       "       [ 0.33338653, -2.27585365],\n",
       "       [ 0.55836695, -2.61419383],\n",
       "       [-0.179137  , -1.25762518],\n",
       "       [-0.11642525, -1.29066965],\n",
       "       [-0.21085488, -2.12285398],\n",
       "       [ 0.46251925, -2.3875644 ],\n",
       "       [ 0.37274259, -2.84096093],\n",
       "       [ 1.37052404, -3.2323429 ],\n",
       "       [-0.21832553, -2.15873837],\n",
       "       [-0.14380129, -1.4431026 ],\n",
       "       [-0.50146479, -1.77964011],\n",
       "       [ 0.68576444, -3.07652162],\n",
       "       [ 0.13890661, -2.14498686],\n",
       "       [ 0.04804751, -1.90486293],\n",
       "       [-0.1645025 , -1.16885347],\n",
       "       [ 0.37148225, -2.10765373],\n",
       "       [ 0.18260885, -2.31430339],\n",
       "       [ 0.40927118, -1.92245088],\n",
       "       [-0.57492506, -1.41407223],\n",
       "       [ 0.2759745 , -2.56332271],\n",
       "       [ 0.30350394, -2.41939122],\n",
       "       [ 0.18741522, -1.94401705],\n",
       "       [-0.37502085, -1.52566363],\n",
       "       [ 0.07851919, -1.76404594],\n",
       "       [ 0.11587675, -1.90162908],\n",
       "       [-0.28288671, -1.38966613]])"
      ]
     },
     "execution_count": 12,
     "metadata": {},
     "output_type": "execute_result"
    }
   ],
   "source": [
    "X_reduced=np.dot(x_matrix, choosen_eigen)\n",
    "X_reduced"
   ]
  },
  {
   "cell_type": "code",
   "execution_count": 13,
   "metadata": {},
   "outputs": [
    {
     "data": {
      "text/plain": [
       "(150, 2)"
      ]
     },
     "execution_count": 13,
     "metadata": {},
     "output_type": "execute_result"
    }
   ],
   "source": [
    "X_reduced.shape"
   ]
  },
  {
   "cell_type": "markdown",
   "metadata": {},
   "source": [
    "Task J"
   ]
  },
  {
   "cell_type": "code",
   "execution_count": 16,
   "metadata": {},
   "outputs": [
    {
     "data": {
      "text/html": [
       "<div>\n",
       "<style scoped>\n",
       "    .dataframe tbody tr th:only-of-type {\n",
       "        vertical-align: middle;\n",
       "    }\n",
       "\n",
       "    .dataframe tbody tr th {\n",
       "        vertical-align: top;\n",
       "    }\n",
       "\n",
       "    .dataframe thead th {\n",
       "        text-align: right;\n",
       "    }\n",
       "</style>\n",
       "<table border=\"1\" class=\"dataframe\">\n",
       "  <thead>\n",
       "    <tr style=\"text-align: right;\">\n",
       "      <th></th>\n",
       "      <th>PC1</th>\n",
       "      <th>PC2</th>\n",
       "    </tr>\n",
       "  </thead>\n",
       "  <tbody>\n",
       "    <tr>\n",
       "      <th>0</th>\n",
       "      <td>0.326607</td>\n",
       "      <td>2.684207</td>\n",
       "    </tr>\n",
       "    <tr>\n",
       "      <th>1</th>\n",
       "      <td>-0.169557</td>\n",
       "      <td>2.715391</td>\n",
       "    </tr>\n",
       "    <tr>\n",
       "      <th>2</th>\n",
       "      <td>-0.137346</td>\n",
       "      <td>2.889820</td>\n",
       "    </tr>\n",
       "    <tr>\n",
       "      <th>3</th>\n",
       "      <td>-0.311124</td>\n",
       "      <td>2.746437</td>\n",
       "    </tr>\n",
       "    <tr>\n",
       "      <th>4</th>\n",
       "      <td>0.333925</td>\n",
       "      <td>2.728593</td>\n",
       "    </tr>\n",
       "  </tbody>\n",
       "</table>\n",
       "</div>"
      ],
      "text/plain": [
       "        PC1       PC2\n",
       "0  0.326607  2.684207\n",
       "1 -0.169557  2.715391\n",
       "2 -0.137346  2.889820\n",
       "3 -0.311124  2.746437\n",
       "4  0.333925  2.728593"
      ]
     },
     "execution_count": 16,
     "metadata": {},
     "output_type": "execute_result"
    }
   ],
   "source": [
    "reduced_data = pd.DataFrame(X_reduced, columns=[\"PC1\", \"PC2\"])\n",
    "reduced_data.head()"
   ]
  },
  {
   "cell_type": "code",
   "execution_count": 18,
   "metadata": {},
   "outputs": [
    {
     "data": {
      "text/html": [
       "<div>\n",
       "<style scoped>\n",
       "    .dataframe tbody tr th:only-of-type {\n",
       "        vertical-align: middle;\n",
       "    }\n",
       "\n",
       "    .dataframe tbody tr th {\n",
       "        vertical-align: top;\n",
       "    }\n",
       "\n",
       "    .dataframe thead th {\n",
       "        text-align: right;\n",
       "    }\n",
       "</style>\n",
       "<table border=\"1\" class=\"dataframe\">\n",
       "  <thead>\n",
       "    <tr style=\"text-align: right;\">\n",
       "      <th></th>\n",
       "      <th>PC1</th>\n",
       "      <th>PC2</th>\n",
       "      <th>Target</th>\n",
       "    </tr>\n",
       "  </thead>\n",
       "  <tbody>\n",
       "    <tr>\n",
       "      <th>0</th>\n",
       "      <td>0.326607</td>\n",
       "      <td>2.684207</td>\n",
       "      <td>Iris-setosa</td>\n",
       "    </tr>\n",
       "    <tr>\n",
       "      <th>1</th>\n",
       "      <td>-0.169557</td>\n",
       "      <td>2.715391</td>\n",
       "      <td>Iris-setosa</td>\n",
       "    </tr>\n",
       "    <tr>\n",
       "      <th>2</th>\n",
       "      <td>-0.137346</td>\n",
       "      <td>2.889820</td>\n",
       "      <td>Iris-setosa</td>\n",
       "    </tr>\n",
       "    <tr>\n",
       "      <th>3</th>\n",
       "      <td>-0.311124</td>\n",
       "      <td>2.746437</td>\n",
       "      <td>Iris-setosa</td>\n",
       "    </tr>\n",
       "    <tr>\n",
       "      <th>4</th>\n",
       "      <td>0.333925</td>\n",
       "      <td>2.728593</td>\n",
       "      <td>Iris-setosa</td>\n",
       "    </tr>\n",
       "  </tbody>\n",
       "</table>\n",
       "</div>"
      ],
      "text/plain": [
       "        PC1       PC2       Target\n",
       "0  0.326607  2.684207  Iris-setosa\n",
       "1 -0.169557  2.715391  Iris-setosa\n",
       "2 -0.137346  2.889820  Iris-setosa\n",
       "3 -0.311124  2.746437  Iris-setosa\n",
       "4  0.333925  2.728593  Iris-setosa"
      ]
     },
     "execution_count": 18,
     "metadata": {},
     "output_type": "execute_result"
    }
   ],
   "source": [
    "# reduced_data.shape\n",
    "reduced_data[\"Target\"] = y\n",
    "reduced_data.head()"
   ]
  },
  {
   "cell_type": "code",
   "execution_count": 19,
   "metadata": {},
   "outputs": [
    {
     "data": {
      "image/png": "[encoded data removed]",
      "text/plain": [
       "<Figure size 640x480 with 1 Axes>"
      ]
     },
     "metadata": {},
     "output_type": "display_data"
    }
   ],
   "source": [
    "plt.bar(reduced_data[\"Target\"], reduced_data[\"PC1\"])\n",
    "plt.show()"
   ]
  },
  {
   "cell_type": "code",
   "execution_count": 20,
   "metadata": {},
   "outputs": [
    {
     "data": {
      "image/png": "[encoded data removed]",
      "text/plain": [
       "<Figure size 640x480 with 1 Axes>"
      ]
     },
     "metadata": {},
     "output_type": "display_data"
    }
   ],
   "source": [
    "plt.bar(reduced_data[\"Target\"], reduced_data[\"PC2\"])\n",
    "plt.show()"
   ]
  }
 ],
 "metadata": {
  "kernelspec": {
   "display_name": "class",
   "language": "python",
   "name": "python3"
  },
  "language_info": {
   "codemirror_mode": {
    "name": "ipython",
    "version": 3
   },
   "file_extension": ".py",
   "mimetype": "text/x-python",
   "name": "python",
   "nbconvert_exporter": "python",
   "pygments_lexer": "ipython3",
   "version": "3.12.9"
  }
 },
 "nbformat": 4,
 "nbformat_minor": 2
}
