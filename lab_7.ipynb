{
  "cells": [
    {
      "cell_type": "code",
      "execution_count": 2,
      "metadata": {
        "id": "XvcN1lQnLo5-"
      },
      "outputs": [],
      "source": [
        "import pandas as pd\n",
        "from mlxtend.frequent_patterns import apriori, association_rules\n"
      ]
    },
    {
      "cell_type": "code",
      "execution_count": 4,
      "metadata": {
        "colab": {
          "base_uri": "https://localhost:8080/",
          "height": 538
        },
        "id": "32bjWLgIMpYJ",
        "outputId": "7f469348-8919-4ebe-e945-f072cd328455"
      },
      "outputs": [
        {
          "data": {
            "text/html": [
              "<div>\n",
              "<style scoped>\n",
              "    .dataframe tbody tr th:only-of-type {\n",
              "        vertical-align: middle;\n",
              "    }\n",
              "\n",
              "    .dataframe tbody tr th {\n",
              "        vertical-align: top;\n",
              "    }\n",
              "\n",
              "    .dataframe thead th {\n",
              "        text-align: right;\n",
              "    }\n",
              "</style>\n",
              "<table border=\"1\" class=\"dataframe\">\n",
              "  <thead>\n",
              "    <tr style=\"text-align: right;\">\n",
              "      <th></th>\n",
              "      <th>InvoiceNo</th>\n",
              "      <th>StockCode</th>\n",
              "      <th>lower</th>\n",
              "      <th>Description</th>\n",
              "      <th>Quantity</th>\n",
              "      <th>InvoiceDate</th>\n",
              "      <th>UnitPrice</th>\n",
              "      <th>CustomerID</th>\n",
              "      <th>Country</th>\n",
              "    </tr>\n",
              "  </thead>\n",
              "  <tbody>\n",
              "    <tr>\n",
              "      <th>0</th>\n",
              "      <td>536365</td>\n",
              "      <td>85123A</td>\n",
              "      <td>white hanging heart t-light holder</td>\n",
              "      <td>WHITE HANGING HEART T-LIGHT HOLDER</td>\n",
              "      <td>6</td>\n",
              "      <td>2010-12-01 08:26:00</td>\n",
              "      <td>2.55</td>\n",
              "      <td>17850.0</td>\n",
              "      <td>United Kingdom</td>\n",
              "    </tr>\n",
              "    <tr>\n",
              "      <th>1</th>\n",
              "      <td>536365</td>\n",
              "      <td>71053</td>\n",
              "      <td>white metal lantern</td>\n",
              "      <td>WHITE METAL LANTERN</td>\n",
              "      <td>6</td>\n",
              "      <td>2010-12-01 08:26:00</td>\n",
              "      <td>3.39</td>\n",
              "      <td>17850.0</td>\n",
              "      <td>United Kingdom</td>\n",
              "    </tr>\n",
              "    <tr>\n",
              "      <th>2</th>\n",
              "      <td>536365</td>\n",
              "      <td>84406B</td>\n",
              "      <td>cream cupid hearts coat hanger</td>\n",
              "      <td>CREAM CUPID HEARTS COAT HANGER</td>\n",
              "      <td>8</td>\n",
              "      <td>2010-12-01 08:26:00</td>\n",
              "      <td>2.75</td>\n",
              "      <td>17850.0</td>\n",
              "      <td>United Kingdom</td>\n",
              "    </tr>\n",
              "    <tr>\n",
              "      <th>3</th>\n",
              "      <td>536365</td>\n",
              "      <td>84029G</td>\n",
              "      <td>knitted union flag hot water bottle</td>\n",
              "      <td>KNITTED UNION FLAG HOT WATER BOTTLE</td>\n",
              "      <td>6</td>\n",
              "      <td>2010-12-01 08:26:00</td>\n",
              "      <td>3.39</td>\n",
              "      <td>17850.0</td>\n",
              "      <td>United Kingdom</td>\n",
              "    </tr>\n",
              "    <tr>\n",
              "      <th>4</th>\n",
              "      <td>536365</td>\n",
              "      <td>84029E</td>\n",
              "      <td>red woolly hottie white heart.</td>\n",
              "      <td>RED WOOLLY HOTTIE WHITE HEART.</td>\n",
              "      <td>6</td>\n",
              "      <td>2010-12-01 08:26:00</td>\n",
              "      <td>3.39</td>\n",
              "      <td>17850.0</td>\n",
              "      <td>United Kingdom</td>\n",
              "    </tr>\n",
              "  </tbody>\n",
              "</table>\n",
              "</div>"
            ],
            "text/plain": [
              "  InvoiceNo StockCode                                lower  \\\n",
              "0    536365    85123A   white hanging heart t-light holder   \n",
              "1    536365     71053                  white metal lantern   \n",
              "2    536365    84406B       cream cupid hearts coat hanger   \n",
              "3    536365    84029G  knitted union flag hot water bottle   \n",
              "4    536365    84029E       red woolly hottie white heart.   \n",
              "\n",
              "                           Description  Quantity         InvoiceDate  \\\n",
              "0   WHITE HANGING HEART T-LIGHT HOLDER         6 2010-12-01 08:26:00   \n",
              "1                  WHITE METAL LANTERN         6 2010-12-01 08:26:00   \n",
              "2       CREAM CUPID HEARTS COAT HANGER         8 2010-12-01 08:26:00   \n",
              "3  KNITTED UNION FLAG HOT WATER BOTTLE         6 2010-12-01 08:26:00   \n",
              "4       RED WOOLLY HOTTIE WHITE HEART.         6 2010-12-01 08:26:00   \n",
              "\n",
              "   UnitPrice  CustomerID         Country  \n",
              "0       2.55     17850.0  United Kingdom  \n",
              "1       3.39     17850.0  United Kingdom  \n",
              "2       2.75     17850.0  United Kingdom  \n",
              "3       3.39     17850.0  United Kingdom  \n",
              "4       3.39     17850.0  United Kingdom  "
            ]
          },
          "execution_count": 4,
          "metadata": {},
          "output_type": "execute_result"
        }
      ],
      "source": [
        "df = pd.read_excel(\"Online Retail.xlsx\")\n",
        "df.head()"
      ]
    },
    {
      "cell_type": "code",
      "execution_count": 5,
      "metadata": {
        "colab": {
          "base_uri": "https://localhost:8080/"
        },
        "id": "iKbn6nvXQ8X5",
        "outputId": "280cef16-ca56-4618-9702-471dfee1f9fe"
      },
      "outputs": [
        {
          "data": {
            "text/plain": [
              "9288"
            ]
          },
          "execution_count": 5,
          "metadata": {},
          "output_type": "execute_result"
        }
      ],
      "source": [
        "# df.shape\n",
        "df['InvoiceNo'].str.contains('C').sum()"
      ]
    },
    {
      "cell_type": "code",
      "execution_count": 6,
      "metadata": {
        "id": "MAQdvi4RQ8St"
      },
      "outputs": [],
      "source": [
        "df['Description'] = df['Description'].str.strip()\n",
        "\n",
        "df.dropna(subset=['InvoiceNo'], inplace=True)\n",
        "\n",
        "df['InvoiceNo'] = df['InvoiceNo'].astype(str)\n",
        "\n",
        "df = df[~df['InvoiceNo'].str.contains('C')]"
      ]
    },
    {
      "cell_type": "code",
      "execution_count": 7,
      "metadata": {
        "colab": {
          "base_uri": "https://localhost:8080/",
          "height": 1000
        },
        "id": "Co9tNKg18U4B",
        "outputId": "68d59daf-11a2-4cbb-c202-caba22a60ac9"
      },
      "outputs": [
        {
          "data": {
            "text/html": [
              "<div>\n",
              "<style scoped>\n",
              "    .dataframe tbody tr th:only-of-type {\n",
              "        vertical-align: middle;\n",
              "    }\n",
              "\n",
              "    .dataframe tbody tr th {\n",
              "        vertical-align: top;\n",
              "    }\n",
              "\n",
              "    .dataframe thead th {\n",
              "        text-align: right;\n",
              "    }\n",
              "</style>\n",
              "<table border=\"1\" class=\"dataframe\">\n",
              "  <thead>\n",
              "    <tr style=\"text-align: right;\">\n",
              "      <th></th>\n",
              "      <th>InvoiceNo</th>\n",
              "      <th>StockCode</th>\n",
              "      <th>lower</th>\n",
              "      <th>Description</th>\n",
              "      <th>Quantity</th>\n",
              "      <th>InvoiceDate</th>\n",
              "      <th>UnitPrice</th>\n",
              "      <th>CustomerID</th>\n",
              "      <th>Country</th>\n",
              "    </tr>\n",
              "  </thead>\n",
              "  <tbody>\n",
              "    <tr>\n",
              "      <th>90</th>\n",
              "      <td>536378</td>\n",
              "      <td>84997B</td>\n",
              "      <td>red 3 piece retrospot cutlery set</td>\n",
              "      <td>RED 3 PIECE RETROSPOT CUTLERY SET</td>\n",
              "      <td>12</td>\n",
              "      <td>2010-12-01 09:37:00</td>\n",
              "      <td>3.75</td>\n",
              "      <td>14688.0</td>\n",
              "      <td>United Kingdom</td>\n",
              "    </tr>\n",
              "    <tr>\n",
              "      <th>91</th>\n",
              "      <td>536378</td>\n",
              "      <td>84997C</td>\n",
              "      <td>blue 3 piece polkadot cutlery set</td>\n",
              "      <td>BLUE 3 PIECE POLKADOT CUTLERY SET</td>\n",
              "      <td>6</td>\n",
              "      <td>2010-12-01 09:37:00</td>\n",
              "      <td>3.75</td>\n",
              "      <td>14688.0</td>\n",
              "      <td>United Kingdom</td>\n",
              "    </tr>\n",
              "    <tr>\n",
              "      <th>468</th>\n",
              "      <td>536408</td>\n",
              "      <td>84997B</td>\n",
              "      <td>red 3 piece retrospot cutlery set</td>\n",
              "      <td>RED 3 PIECE RETROSPOT CUTLERY SET</td>\n",
              "      <td>6</td>\n",
              "      <td>2010-12-01 11:41:00</td>\n",
              "      <td>3.75</td>\n",
              "      <td>14307.0</td>\n",
              "      <td>United Kingdom</td>\n",
              "    </tr>\n",
              "    <tr>\n",
              "      <th>1017</th>\n",
              "      <td>536522</td>\n",
              "      <td>84997D</td>\n",
              "      <td>pink 3 piece polkadot cutlery set</td>\n",
              "      <td>PINK 3 PIECE POLKADOT CUTLERY SET</td>\n",
              "      <td>1</td>\n",
              "      <td>2010-12-01 12:49:00</td>\n",
              "      <td>3.75</td>\n",
              "      <td>15012.0</td>\n",
              "      <td>United Kingdom</td>\n",
              "    </tr>\n",
              "    <tr>\n",
              "      <th>1052</th>\n",
              "      <td>536522</td>\n",
              "      <td>84997C</td>\n",
              "      <td>blue 3 piece polkadot cutlery set</td>\n",
              "      <td>BLUE 3 PIECE POLKADOT CUTLERY SET</td>\n",
              "      <td>1</td>\n",
              "      <td>2010-12-01 12:49:00</td>\n",
              "      <td>3.75</td>\n",
              "      <td>15012.0</td>\n",
              "      <td>United Kingdom</td>\n",
              "    </tr>\n",
              "    <tr>\n",
              "      <th>...</th>\n",
              "      <td>...</td>\n",
              "      <td>...</td>\n",
              "      <td>...</td>\n",
              "      <td>...</td>\n",
              "      <td>...</td>\n",
              "      <td>...</td>\n",
              "      <td>...</td>\n",
              "      <td>...</td>\n",
              "      <td>...</td>\n",
              "    </tr>\n",
              "    <tr>\n",
              "      <th>485520</th>\n",
              "      <td>577609</td>\n",
              "      <td>23253</td>\n",
              "      <td>NaN</td>\n",
              "      <td>16 PIECE CUTLERY SET PANTRY DESIGN</td>\n",
              "      <td>4</td>\n",
              "      <td>2011-11-21 09:51:00</td>\n",
              "      <td>15.95</td>\n",
              "      <td>12349.0</td>\n",
              "      <td>Italy</td>\n",
              "    </tr>\n",
              "    <tr>\n",
              "      <th>492942</th>\n",
              "      <td>578149</td>\n",
              "      <td>23253</td>\n",
              "      <td>NaN</td>\n",
              "      <td>16 PIECE CUTLERY SET PANTRY DESIGN</td>\n",
              "      <td>1</td>\n",
              "      <td>2011-11-23 11:11:00</td>\n",
              "      <td>33.29</td>\n",
              "      <td>NaN</td>\n",
              "      <td>United Kingdom</td>\n",
              "    </tr>\n",
              "    <tr>\n",
              "      <th>497761</th>\n",
              "      <td>578472</td>\n",
              "      <td>23253</td>\n",
              "      <td>NaN</td>\n",
              "      <td>16 PIECE CUTLERY SET PANTRY DESIGN</td>\n",
              "      <td>4</td>\n",
              "      <td>2011-11-24 12:40:00</td>\n",
              "      <td>15.95</td>\n",
              "      <td>12476.0</td>\n",
              "      <td>Germany</td>\n",
              "    </tr>\n",
              "    <tr>\n",
              "      <th>532520</th>\n",
              "      <td>580983</td>\n",
              "      <td>23253</td>\n",
              "      <td>NaN</td>\n",
              "      <td>16 PIECE CUTLERY SET PANTRY DESIGN</td>\n",
              "      <td>1</td>\n",
              "      <td>2011-12-06 16:26:00</td>\n",
              "      <td>33.29</td>\n",
              "      <td>NaN</td>\n",
              "      <td>United Kingdom</td>\n",
              "    </tr>\n",
              "    <tr>\n",
              "      <th>537992</th>\n",
              "      <td>581379</td>\n",
              "      <td>23253</td>\n",
              "      <td>NaN</td>\n",
              "      <td>16 PIECE CUTLERY SET PANTRY DESIGN</td>\n",
              "      <td>2</td>\n",
              "      <td>2011-12-08 12:50:00</td>\n",
              "      <td>15.95</td>\n",
              "      <td>13954.0</td>\n",
              "      <td>United Kingdom</td>\n",
              "    </tr>\n",
              "  </tbody>\n",
              "</table>\n",
              "<p>544 rows × 9 columns</p>\n",
              "</div>"
            ],
            "text/plain": [
              "       InvoiceNo StockCode                              lower  \\\n",
              "90        536378    84997B  red 3 piece retrospot cutlery set   \n",
              "91        536378    84997C  blue 3 piece polkadot cutlery set   \n",
              "468       536408    84997B  red 3 piece retrospot cutlery set   \n",
              "1017      536522    84997D  pink 3 piece polkadot cutlery set   \n",
              "1052      536522    84997C  blue 3 piece polkadot cutlery set   \n",
              "...          ...       ...                                ...   \n",
              "485520    577609     23253                                NaN   \n",
              "492942    578149     23253                                NaN   \n",
              "497761    578472     23253                                NaN   \n",
              "532520    580983     23253                                NaN   \n",
              "537992    581379     23253                                NaN   \n",
              "\n",
              "                               Description  Quantity         InvoiceDate  \\\n",
              "90       RED 3 PIECE RETROSPOT CUTLERY SET        12 2010-12-01 09:37:00   \n",
              "91       BLUE 3 PIECE POLKADOT CUTLERY SET         6 2010-12-01 09:37:00   \n",
              "468      RED 3 PIECE RETROSPOT CUTLERY SET         6 2010-12-01 11:41:00   \n",
              "1017     PINK 3 PIECE POLKADOT CUTLERY SET         1 2010-12-01 12:49:00   \n",
              "1052     BLUE 3 PIECE POLKADOT CUTLERY SET         1 2010-12-01 12:49:00   \n",
              "...                                    ...       ...                 ...   \n",
              "485520  16 PIECE CUTLERY SET PANTRY DESIGN         4 2011-11-21 09:51:00   \n",
              "492942  16 PIECE CUTLERY SET PANTRY DESIGN         1 2011-11-23 11:11:00   \n",
              "497761  16 PIECE CUTLERY SET PANTRY DESIGN         4 2011-11-24 12:40:00   \n",
              "532520  16 PIECE CUTLERY SET PANTRY DESIGN         1 2011-12-06 16:26:00   \n",
              "537992  16 PIECE CUTLERY SET PANTRY DESIGN         2 2011-12-08 12:50:00   \n",
              "\n",
              "        UnitPrice  CustomerID         Country  \n",
              "90           3.75     14688.0  United Kingdom  \n",
              "91           3.75     14688.0  United Kingdom  \n",
              "468          3.75     14307.0  United Kingdom  \n",
              "1017         3.75     15012.0  United Kingdom  \n",
              "1052         3.75     15012.0  United Kingdom  \n",
              "...           ...         ...             ...  \n",
              "485520      15.95     12349.0           Italy  \n",
              "492942      33.29         NaN  United Kingdom  \n",
              "497761      15.95     12476.0         Germany  \n",
              "532520      33.29         NaN  United Kingdom  \n",
              "537992      15.95     13954.0  United Kingdom  \n",
              "\n",
              "[544 rows x 9 columns]"
            ]
          },
          "execution_count": 7,
          "metadata": {},
          "output_type": "execute_result"
        }
      ],
      "source": [
        "# df['Description'].str.contains(\"CUTLERY SET\")==True\n",
        "df[df['Description'].str.contains(\"CUTLERY SET\")==True]"
      ]
    },
    {
      "cell_type": "code",
      "execution_count": 8,
      "metadata": {
        "id": "TUYZ0A3KDPN2"
      },
      "outputs": [],
      "source": [
        "df.dropna(subset=['Description'], inplace=True)"
      ]
    },
    {
      "cell_type": "code",
      "execution_count": 9,
      "metadata": {
        "colab": {
          "base_uri": "https://localhost:8080/"
        },
        "id": "3iiwzXaiQ8Lh",
        "outputId": "03c93b05-d1fc-47cb-d8a5-848d9f7883dd"
      },
      "outputs": [
        {
          "data": {
            "text/plain": [
              "array(['RED 3 PIECE RETROSPOT CUTLERY SET',\n",
              "       'BLUE 3 PIECE POLKADOT CUTLERY SET',\n",
              "       'PINK 3 PIECE POLKADOT CUTLERY SET',\n",
              "       'GREEN 3 PIECE POLKADOT CUTLERY SET',\n",
              "       '16 PIECE CUTLERY SET PANTRY DESIGN',\n",
              "       '16 PC CUTLERY SET PANTRY DESIGN',\n",
              "       '18PC WOODEN CUTLERY SET DISPOSABLE'], dtype=object)"
            ]
          },
          "execution_count": 9,
          "metadata": {},
          "output_type": "execute_result"
        }
      ],
      "source": [
        "# df.isnull().sum()\n",
        "cutlery_items = df[df[\"Description\"].str.contains(\"CUTLERY SET\", case=False)][\"Description\"].unique()\n",
        "cutlery_items"
      ]
    },
    {
      "cell_type": "code",
      "execution_count": 10,
      "metadata": {
        "id": "XDvThBWcD2UT"
      },
      "outputs": [],
      "source": [
        "df[\"Description\"] = df[\"Description\"].replace(\n",
        "    {\n",
        "        'RED 3 PIECE RETROSPOT CUTLERY SET':'CUTLERY SET',\n",
        "       'BLUE 3 PIECE POLKADOT CUTLERY SET':'CUTLERY SET',\n",
        "       'PINK 3 PIECE POLKADOT CUTLERY SET':'CUTLERY SET',\n",
        "       'GREEN 3 PIECE POLKADOT CUTLERY SET':'CUTLERY SET',\n",
        "       '16 PIECE CUTLERY SET PANTRY DESIGN':'CUTLERY SET',\n",
        "       '16 PC CUTLERY SET PANTRY DESIGN':'CUTLERY SET',\n",
        "       '18PC WOODEN CUTLERY SET DISPOSABLE':'CUTLERY SET'\n",
        "    }\n",
        ")"
      ]
    },
    {
      "cell_type": "code",
      "execution_count": 11,
      "metadata": {
        "colab": {
          "base_uri": "https://localhost:8080/",
          "height": 366
        },
        "id": "1H6or42ZEOP5",
        "outputId": "e897e704-05ab-456b-c37d-da603a7c5b73"
      },
      "outputs": [
        {
          "data": {
            "text/plain": [
              "InvoiceNo      544\n",
              "StockCode      544\n",
              "lower            5\n",
              "Description    544\n",
              "Quantity       544\n",
              "InvoiceDate    544\n",
              "UnitPrice      544\n",
              "CustomerID     435\n",
              "Country        544\n",
              "dtype: int64"
            ]
          },
          "execution_count": 11,
          "metadata": {},
          "output_type": "execute_result"
        }
      ],
      "source": [
        "df[df[\"Description\"] == \"CUTLERY SET\"].count()"
      ]
    },
    {
      "cell_type": "code",
      "execution_count": 12,
      "metadata": {
        "id": "JLxrSWjOQ8DE"
      },
      "outputs": [],
      "source": [
        "def create_basket(country):\n",
        "    basket = (df[df['Country'] == country]\n",
        "              .groupby(['InvoiceNo', 'Description'])['Quantity']\n",
        "              .sum().unstack().reset_index().fillna(0)\n",
        "              .set_index('InvoiceNo'))\n",
        "\n",
        "    # Convert to boolean (True for presence, False for absence)\n",
        "    basket = basket > 0  # This automatically creates a boolean DataFrame\n",
        "    return basket\n"
      ]
    },
    {
      "cell_type": "code",
      "execution_count": null,
      "metadata": {
        "colab": {
          "base_uri": "https://localhost:8080/"
        },
        "id": "Eh3giBiS3_vQ",
        "outputId": "c4744fbf-a95e-4a15-cf9c-805149ce9889"
      },
      "outputs": [
        {
          "name": "stdout",
          "output_type": "stream",
          "text": [
            "\n",
            "Analysis for France:\n"
          ]
        }
      ],
      "source": [
        "for country in countries:\n",
        "    print(f\"\\nAnalysis for {country}:\")\n",
        "    basket = create_basket(country)\n",
        "\n",
        "#     # Apply the Apriori algorithm with a minimum support threshold of 0.05\n",
        "#     frequent_itemsets = apriori(basket, min_support=0.02, use_colnames=True)\n",
        "\n",
        "#     # Generate association rules with a minimum lift threshold of 1\n",
        "#     rules = association_rules(frequent_itemsets, metric=\"lift\", min_threshold=1)\n",
        "\n",
        "#     # Filter rules that include 'Cutlery Set' in the antecedents or consequents\n",
        "#     cutlery_rules = rules[\n",
        "#     rules['antecedents'].apply(lambda x: any('CUTLERY SET' in item.lower() for item in x)) |\n",
        "#     rules['consequents'].apply(lambda x: any('CUTLERY SET' in item.lower() for item in x))\n",
        "#     ]\n",
        "\n",
        "\n",
        "#     # Sort the association rules based on confidence and lift values in descending order\n",
        "#     cutlery_rules = cutlery_rules.sort_values(by=['confidence', 'lift'], ascending=[False, False])\n",
        "\n",
        "#     # Print the top association rules involving 'Cutlery Set'\n",
        "#     for _, rule in cutlery_rules.iterrows():\n",
        "#         antecedents = ', '.join(rule['antecedents'])\n",
        "#         consequents = ', '.join(rule['consequents'])\n",
        "#         print(f\"Rule: {antecedents} -> {consequents}\")\n",
        "#         print(f\"Support: {rule['support']:.4f}\")\n",
        "#         print(f\"Confidence: {rule['confidence']:.4f}\")\n",
        "#         print(f\"Lift: {rule['lift']:.4f}\\n\")\n",
        "\n",
        "# countries = [\"France\", \"United Kingdom\", \"Portugal\", \"Sweden\"]    break"
      ]
    },
    {
      "cell_type": "code",
      "execution_count": null,
      "metadata": {
        "colab": {
          "base_uri": "https://localhost:8080/"
        },
        "id": "oudtCi3O6UGB",
        "outputId": "fdbeace6-834b-437a-c358-2b15085de733"
      },
      "outputs": [],
      "source": [
        "countries = [\"France\", \"United Kingdom\", \"Portugal\", \"Sweden\"]\n",
        "\n",
        "for country in countries:\n",
        "    print(f\"\\nAnalysis for {country}:\")\n",
        "    basket = create_basket(country)\n",
        "\n",
        "    frequent_itemsets = apriori(basket, min_support=0.01, use_colnames=True)\n",
        "    # print(frequent_itemsets.head())\n",
        "\n",
        "    rules = association_rules(frequent_itemsets, metric=\"lift\", min_threshold=1)\n",
        "    # print(rules.head())\n",
        "\n",
        "    cutlery_rules = rules[\n",
        "    rules['antecedents'].apply(lambda x: any('CUTLERY SET' in item for item in x)) |\n",
        "    rules['consequents'].apply(lambda x: any('CUTLERY SET' in item for item in x))\n",
        "    ]\n",
        "    cutlery_rules = cutlery_rules.sort_values(by=['confidence', 'lift'], ascending=[False, False])\n",
        "\n",
        "    # print(cutlery_rules.head())\n",
        "    # Print the top association rules involving 'Cutlery Set'\n",
        "    for _, rule in cutlery_rules.iterrows():\n",
        "        antecedents = ', '.join(rule['antecedents'])\n",
        "        consequents = ', '.join(rule['consequents'])\n",
        "        print(f\"Rule: {antecedents} -> {consequents}\")\n",
        "        print(f\"Support: {rule['support']:.4f}\")\n",
        "        print(f\"Confidence: {rule['confidence']:.4f}\")\n",
        "        print(f\"Lift: {rule['lift']:.4f}\\n\")\n",
        "\n"
      ]
    }
  ],
  "metadata": {
    "accelerator": "GPU",
    "colab": {
      "gpuType": "T4",
      "provenance": []
    },
    "kernelspec": {
      "display_name": "agent",
      "language": "python",
      "name": "python3"
    },
    "language_info": {
      "codemirror_mode": {
        "name": "ipython",
        "version": 3
      },
      "file_extension": ".py",
      "mimetype": "text/x-python",
      "name": "python",
      "nbconvert_exporter": "python",
      "pygments_lexer": "ipython3",
      "version": "3.12.0"
    }
  },
  "nbformat": 4,
  "nbformat_minor": 0
}
