{
  "nbformat": 4,
  "nbformat_minor": 0,
  "metadata": {
    "colab": {
      "provenance": []
    },
    "kernelspec": {
      "name": "python3",
      "display_name": "Python 3"
    },
    "language_info": {
      "name": "python"
    }
  },
  "cells": [
    {
      "cell_type": "markdown",
      "source": [
        "**Submitted By: Muhammad Talha Iftikhar**"
      ],
      "metadata": {
        "id": "MkLA3oddA_UD"
      }
    },
    {
      "cell_type": "markdown",
      "source": [
        "**Q1 part A**"
      ],
      "metadata": {
        "id": "XGdqSuimHdDU"
      }
    },
    {
      "cell_type": "code",
      "source": [
        "name = \"Talha\""
      ],
      "metadata": {
        "id": "Q6U8YjI6E9PK"
      },
      "execution_count": null,
      "outputs": []
    },
    {
      "cell_type": "code",
      "source": [
        "name"
      ],
      "metadata": {
        "colab": {
          "base_uri": "https://localhost:8080/",
          "height": 35
        },
        "id": "jsz9qwFrHjuk",
        "outputId": "c74a6cd5-c21b-4c8d-be17-6b1a1159d24d"
      },
      "execution_count": null,
      "outputs": [
        {
          "output_type": "execute_result",
          "data": {
            "text/plain": [
              "'Talha'"
            ],
            "application/vnd.google.colaboratory.intrinsic+json": {
              "type": "string"
            }
          },
          "metadata": {},
          "execution_count": 12
        }
      ]
    },
    {
      "cell_type": "code",
      "source": [
        "print(name)"
      ],
      "metadata": {
        "colab": {
          "base_uri": "https://localhost:8080/"
        },
        "id": "Ks3NP6_aHlhX",
        "outputId": "1c10eed0-efb7-4631-ceea-fae6db7e66bc"
      },
      "execution_count": null,
      "outputs": [
        {
          "output_type": "stream",
          "name": "stdout",
          "text": [
            "Talha\n"
          ]
        }
      ]
    },
    {
      "cell_type": "markdown",
      "source": [
        "**Q1 b**"
      ],
      "metadata": {
        "id": "ScOARLvdISvs"
      }
    },
    {
      "cell_type": "code",
      "source": [
        "first_name = 'Talha'\n",
        "last_name = 'Iftikhar'\n",
        "\n"
      ],
      "metadata": {
        "colab": {
          "base_uri": "https://localhost:8080/"
        },
        "id": "uXsTpLkoHnji",
        "outputId": "29f7d2b7-4da8-4361-e0f2-7d514b7a649d"
      },
      "execution_count": null,
      "outputs": [
        {
          "output_type": "stream",
          "name": "stdout",
          "text": [
            "TalhaIftikhar\n"
          ]
        }
      ]
    },
    {
      "cell_type": "code",
      "source": [
        "print(first_name+last_name)"
      ],
      "metadata": {
        "colab": {
          "base_uri": "https://localhost:8080/"
        },
        "id": "TsXd5PkZH7vK",
        "outputId": "0d521895-e7b9-478a-be56-e22a67813347"
      },
      "execution_count": null,
      "outputs": [
        {
          "output_type": "stream",
          "name": "stdout",
          "text": [
            "TalhaIftikhar\n"
          ]
        }
      ]
    },
    {
      "cell_type": "code",
      "source": [
        "print(first_name,last_name)"
      ],
      "metadata": {
        "colab": {
          "base_uri": "https://localhost:8080/"
        },
        "id": "3mEJkICSIA9_",
        "outputId": "c4977448-6ef6-490d-8c4a-a8640023a0da"
      },
      "execution_count": null,
      "outputs": [
        {
          "output_type": "stream",
          "name": "stdout",
          "text": [
            "Talha Iftikhar\n"
          ]
        }
      ]
    },
    {
      "cell_type": "code",
      "source": [
        "name3 = first_name + \" \" + last_name\n",
        "print(name3*3)"
      ],
      "metadata": {
        "colab": {
          "base_uri": "https://localhost:8080/"
        },
        "id": "_lNw0psHPVSM",
        "outputId": "21da9a6f-7456-4603-b2fd-83f80e395af5"
      },
      "execution_count": null,
      "outputs": [
        {
          "output_type": "stream",
          "name": "stdout",
          "text": [
            "Talha IftikharTalha IftikharTalha Iftikhar\n"
          ]
        }
      ]
    },
    {
      "cell_type": "markdown",
      "source": [
        "**Q2**"
      ],
      "metadata": {
        "id": "diKagNNiIXZU"
      }
    },
    {
      "cell_type": "code",
      "source": [
        "def add(x, y):\n",
        "\n",
        "  return x + y\n",
        "\n",
        "def subtract(x, y):\n",
        "\n",
        "  return x - y\n",
        "\n",
        "def multiply(x, y):\n",
        "\n",
        "  return x * y\n",
        "\n",
        "def divide(x, y):\n",
        "\n",
        "  if y == 0:\n",
        "    return\n",
        "  else:\n",
        "    return x / y\n"
      ],
      "metadata": {
        "id": "gQlfKJpJIyHe"
      },
      "execution_count": null,
      "outputs": []
    },
    {
      "cell_type": "code",
      "source": [
        "print(add(2,4))\n",
        "print(subtract(2,4))\n",
        "print(multiply(2,4))\n",
        "print(divide(2,4))"
      ],
      "metadata": {
        "colab": {
          "base_uri": "https://localhost:8080/"
        },
        "id": "_aC0X7-4I2Oj",
        "outputId": "cb2629c6-6e6c-49de-b7ba-3ffde4b82d12"
      },
      "execution_count": null,
      "outputs": [
        {
          "output_type": "stream",
          "name": "stdout",
          "text": [
            "6\n",
            "-2\n",
            "8\n",
            "0.5\n"
          ]
        }
      ]
    },
    {
      "cell_type": "markdown",
      "source": [
        "**Q3**"
      ],
      "metadata": {
        "id": "sPus7XSSMD0h"
      }
    },
    {
      "cell_type": "code",
      "source": [
        "string1= \"Talha\"\n",
        "string2= \"Iftikhar\"\n",
        "\n",
        "\n",
        "m1 = int(len(string1)/2)\n",
        "m2 = int(len(string2)/2)\n",
        "print(string1[0]+string2[0]+string1[m1]+string1[m2]+string1[-1]+string2[-1])\n",
        "\n"
      ],
      "metadata": {
        "colab": {
          "base_uri": "https://localhost:8080/"
        },
        "id": "3NuVesVxI4cS",
        "outputId": "0ee2193a-2f2f-4ebe-bb83-0210562df026"
      },
      "execution_count": null,
      "outputs": [
        {
          "output_type": "stream",
          "name": "stdout",
          "text": [
            "TIlaar\n"
          ]
        }
      ]
    },
    {
      "cell_type": "markdown",
      "source": [
        "**Q4**"
      ],
      "metadata": {
        "id": "QF4vJGkOMIGL"
      }
    },
    {
      "cell_type": "code",
      "source": [
        "def make_new_string(s1,s2):\n",
        "  l = int(len(s1)/2)\n",
        "  s3 = s1[0:l]\n",
        "  s4 = s1[l:]\n",
        "  print(s3+s2+s4)\n",
        "make_new_string(\"software\",\"Design\")"
      ],
      "metadata": {
        "colab": {
          "base_uri": "https://localhost:8080/"
        },
        "id": "SKxDsMYFJTwN",
        "outputId": "64ccc3e2-48de-4909-9e5c-886f1350cbf5"
      },
      "execution_count": null,
      "outputs": [
        {
          "output_type": "stream",
          "name": "stdout",
          "text": [
            "softDesignware\n"
          ]
        }
      ]
    },
    {
      "cell_type": "markdown",
      "source": [
        "**Q5**"
      ],
      "metadata": {
        "id": "OSgQMsSTL9P7"
      }
    },
    {
      "cell_type": "code",
      "source": [
        "def list_maker(a,b,c,d):\n",
        "  list = [a,b,c,d]\n",
        "  return list\n",
        "\n",
        "\n",
        "\n",
        "list1 = list_maker(0.0,\"USD\",2974676,3.5)\n",
        "print(list1)\n",
        "\n",
        "list2 = list_maker(0.0,\"USD\",2161558,4.5)\n",
        "print(list2)\n",
        "\n",
        "list3 = list_maker(0.0,\"USD\",2130805,4.5)\n",
        "print(list3)\n",
        "\n",
        "list4 = list_maker(0.0,\"USD\",1724546,4.5)\n",
        "print(list4)\n",
        "\n",
        "list5 = list_maker(0.0,\"USD\",1126879,4.0)\n",
        "print(list5)"
      ],
      "metadata": {
        "colab": {
          "base_uri": "https://localhost:8080/"
        },
        "id": "rWA44MyxKT7C",
        "outputId": "dc0d517c-1b95-494f-9eb2-7063eb3dbd7d"
      },
      "execution_count": null,
      "outputs": [
        {
          "output_type": "stream",
          "name": "stdout",
          "text": [
            "[0.0, 'USD', 2974676, 3.5]\n",
            "[0.0, 'USD', 2161558, 4.5]\n",
            "[0.0, 'USD', 2130805, 4.5]\n",
            "[0.0, 'USD', 1724546, 4.5]\n",
            "[0.0, 'USD', 1126879, 4.0]\n"
          ]
        }
      ]
    },
    {
      "cell_type": "markdown",
      "source": [
        "Q6"
      ],
      "metadata": {
        "id": "2BpZlIcxNKzK"
      }
    },
    {
      "cell_type": "code",
      "source": [
        "list_f = []\n",
        "list_f.append(\"Machine Learning\")\n",
        "list_f.append(\"Software Construction\")\n",
        "list_f.append(\"Formal Methods\")\n",
        "\n",
        "print(list_f)"
      ],
      "metadata": {
        "colab": {
          "base_uri": "https://localhost:8080/"
        },
        "id": "0YUcdCjlNBPx",
        "outputId": "99a97ba2-41d1-43ca-da84-b419658cdd02"
      },
      "execution_count": null,
      "outputs": [
        {
          "output_type": "stream",
          "name": "stdout",
          "text": [
            "['Machine Learning', 'Software Construction', 'Formal Methods']\n"
          ]
        }
      ]
    },
    {
      "cell_type": "code",
      "source": [
        "list_f.remove(\"Software Construction\")\n",
        "list_f"
      ],
      "metadata": {
        "colab": {
          "base_uri": "https://localhost:8080/"
        },
        "id": "Pj4RIzNqNxUr",
        "outputId": "674a2b43-2050-4a49-b28a-cad2d0ce3887"
      },
      "execution_count": null,
      "outputs": [
        {
          "output_type": "execute_result",
          "data": {
            "text/plain": [
              "['Machine Learning', 'Formal Methods']"
            ]
          },
          "metadata": {},
          "execution_count": 43
        }
      ]
    },
    {
      "cell_type": "code",
      "source": [
        "list_f.insert(1,\"Artificial Intelligence\")\n",
        "list_f\n"
      ],
      "metadata": {
        "colab": {
          "base_uri": "https://localhost:8080/"
        },
        "id": "WoiwvgoEOJe7",
        "outputId": "00d3e05f-28f8-4bda-923c-20f616684f4c"
      },
      "execution_count": null,
      "outputs": [
        {
          "output_type": "execute_result",
          "data": {
            "text/plain": [
              "['Machine Learning', 'Artificial Intelligence', 'Formal Methods']"
            ]
          },
          "metadata": {},
          "execution_count": 44
        }
      ]
    },
    {
      "cell_type": "code",
      "source": [
        "# prompt: slice the list list_f to return 1st and last element\n",
        "\n",
        "print(list_f[0], list_f[-1])\n",
        "\n"
      ],
      "metadata": {
        "colab": {
          "base_uri": "https://localhost:8080/"
        },
        "id": "t3FxhsObOg2k",
        "outputId": "63f3daef-45f3-4b8c-8380-6dd638a67037"
      },
      "execution_count": null,
      "outputs": [
        {
          "output_type": "stream",
          "name": "stdout",
          "text": [
            "Machine Learning Formal Methods\n"
          ]
        }
      ]
    },
    {
      "cell_type": "code",
      "source": [],
      "metadata": {
        "id": "wZ66FtRjOu84"
      },
      "execution_count": null,
      "outputs": []
    }
  ]
}