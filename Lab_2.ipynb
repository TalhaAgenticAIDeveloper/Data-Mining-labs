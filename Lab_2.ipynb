{
  "nbformat": 4,
  "nbformat_minor": 0,
  "metadata": {
    "colab": {
      "provenance": []
    },
    "kernelspec": {
      "name": "python3",
      "display_name": "Python 3"
    },
    "language_info": {
      "name": "python"
    }
  },
  "cells": [
    {
      "cell_type": "markdown",
      "source": [
        "**Submitted by:** Muhammad Talha Iftikhar<br>\n",
        "\n",
        "\n",
        "\n",
        "\n",
        "**BESE-28-A**\n",
        "\n",
        "\n"
      ],
      "metadata": {
        "id": "mHs0hqOJKtcS"
      }
    },
    {
      "cell_type": "markdown",
      "source": [
        "**Q1:** Write code to find the indexes where the values are negative in the array [5, -3, 7, -9, 2, -1]."
      ],
      "metadata": {
        "id": "FzHA1P9GI2IJ"
      }
    },
    {
      "cell_type": "code",
      "execution_count": null,
      "metadata": {
        "colab": {
          "base_uri": "https://localhost:8080/"
        },
        "id": "8gAhPVWE_x9E",
        "outputId": "46ca3328-5640-442f-fad7-1b7591384ed0"
      },
      "outputs": [
        {
          "output_type": "stream",
          "name": "stdout",
          "text": [
            "(array([1, 3, 5]),)\n"
          ]
        }
      ],
      "source": [
        "import numpy as np\n",
        "\n",
        "\n",
        "arr2 = np.array([5, -3, 7, -9, 2, -1])\n",
        "\n",
        "x = np.where(arr2 < 0)\n",
        "\n",
        "print(x)\n"
      ]
    },
    {
      "cell_type": "markdown",
      "source": [
        "Q2. Create a Pandas Series with a custom index for the sales data:\n",
        "•\tSales: [300, 500, 700, 600]\n",
        "•\tDays: [\"Monday\", \"Tuesday\", \"Wednesday\", \"Thursday\"] Perform a query to display sales greater than 400.\n"
      ],
      "metadata": {
        "id": "vBglhb-OJFea"
      }
    },
    {
      "cell_type": "code",
      "source": [
        "import pandas as pd\n",
        "\n",
        "sales_data = {\n",
        "    \"Sales\": [300, 500, 700, 600],\n",
        "    \"Days\": [\"Monday\", \"Tuesday\", \"Wednesday\", \"Thursday\"]\n",
        "}\n",
        "\n",
        "df = pd.DataFrame(sales_data)\n",
        "\n",
        "print(df)\n"
      ],
      "metadata": {
        "colab": {
          "base_uri": "https://localhost:8080/"
        },
        "id": "5ATd8y_GH4Yh",
        "outputId": "80957c21-72fc-40e3-e894-3c60ddc587a2"
      },
      "execution_count": null,
      "outputs": [
        {
          "output_type": "stream",
          "name": "stdout",
          "text": [
            "   Sales       Days\n",
            "0    300     Monday\n",
            "1    500    Tuesday\n",
            "2    700  Wednesday\n",
            "3    600   Thursday\n"
          ]
        }
      ]
    },
    {
      "cell_type": "markdown",
      "source": [
        "**Q3.** Given the array [12, 24, 7, 35, 50, 9, 21], use NumPy to filter and display only the elements greater than 15."
      ],
      "metadata": {
        "id": "1wGsV3BWJUGl"
      }
    },
    {
      "cell_type": "code",
      "source": [
        "arr = np.array([12,24,7,35,50,9,21])\n",
        "\n",
        "for x in np.nditer(arr):\n",
        "  if x > 15:\n",
        "    print(x)\n",
        "\n"
      ],
      "metadata": {
        "colab": {
          "base_uri": "https://localhost:8080/"
        },
        "id": "KN7Jf18eJSW9",
        "outputId": "2120ac2a-c739-46d3-aa01-aed9f96c5a5d"
      },
      "execution_count": null,
      "outputs": [
        {
          "output_type": "stream",
          "name": "stdout",
          "text": [
            "24\n",
            "35\n",
            "50\n",
            "21\n"
          ]
        }
      ]
    },
    {
      "cell_type": "markdown",
      "source": [
        "**Q4.** Given the array [15, 22, 8, 19, 30, 42], filter and display only elements divisible by 3 using NumPy."
      ],
      "metadata": {
        "id": "NFt7i6zvJyge"
      }
    },
    {
      "cell_type": "code",
      "source": [
        "arr = np.array([15, 22, 8, 19, 30, 42])\n",
        "\n",
        "for x in np.nditer(arr):\n",
        "  if x % 3 == 0:\n",
        "    print(x)"
      ],
      "metadata": {
        "colab": {
          "base_uri": "https://localhost:8080/"
        },
        "id": "C4bGb47vJt1-",
        "outputId": "14bcf9c5-e87e-4697-a941-79010edbd4a9"
      },
      "execution_count": null,
      "outputs": [
        {
          "output_type": "stream",
          "name": "stdout",
          "text": [
            "<built-in method tolist of numpy.ndarray object at 0x7b07dc4271b0>\n"
          ]
        }
      ]
    },
    {
      "cell_type": "markdown",
      "source": [
        "**Q5.** Write code to generate a plot with a dashed red line from point (0, 0) to point (5, 10)."
      ],
      "metadata": {
        "id": "xdPjbJsxJ_9k"
      }
    },
    {
      "cell_type": "code",
      "source": [
        "import matplotlib.pyplot as plt"
      ],
      "metadata": {
        "id": "Pi2WcgF7J-d8"
      },
      "execution_count": null,
      "outputs": []
    },
    {
      "cell_type": "code",
      "source": [
        "xpoints = np.array([0, 5])\n",
        "ypoints = np.array([0, 10])\n",
        "\n",
        "plt.plot(xpoints, ypoints,'r',\"--\")\n",
        "plt.show()\n"
      ],
      "metadata": {
        "colab": {
          "base_uri": "https://localhost:8080/",
          "height": 430
        },
        "id": "BlqSQgzlKRPq",
        "outputId": "0c87c78f-284c-4a00-d67a-a4839ab0c523"
      },
      "execution_count": null,
      "outputs": [
        {
          "output_type": "display_data",
          "data": {
            "text/plain": [
              "<Figure size 640x480 with 1 Axes>"
            ],
            "image/png": "[encoded data removed]"
          },
          "metadata": {}
        }
      ]
    },
    {
      "cell_type": "code",
      "source": [],
      "metadata": {
        "id": "y3ClXf9GKfls"
      },
      "execution_count": null,
      "outputs": []
    }
  ]
}